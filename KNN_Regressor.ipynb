{
 "cells": [
  {
   "cell_type": "code",
   "execution_count": 1,
   "id": "ff31c186-83b4-40ad-8225-3925a1ae0227",
   "metadata": {},
   "outputs": [],
   "source": [
    "import numpy as np\n",
    "import pandas as pd\n",
    "import matplotlib.pyplot as plt\n",
    "import sklearn\n"
   ]
  },
  {
   "cell_type": "code",
   "execution_count": 2,
   "id": "5d7d635e-c657-4fde-9832-29e5c03d944a",
   "metadata": {},
   "outputs": [
    {
     "data": {
      "text/html": [
       "<div>\n",
       "<style scoped>\n",
       "    .dataframe tbody tr th:only-of-type {\n",
       "        vertical-align: middle;\n",
       "    }\n",
       "\n",
       "    .dataframe tbody tr th {\n",
       "        vertical-align: top;\n",
       "    }\n",
       "\n",
       "    .dataframe thead th {\n",
       "        text-align: right;\n",
       "    }\n",
       "</style>\n",
       "<table border=\"1\" class=\"dataframe\">\n",
       "  <thead>\n",
       "    <tr style=\"text-align: right;\">\n",
       "      <th></th>\n",
       "      <th>X1</th>\n",
       "      <th>X2</th>\n",
       "      <th>X3</th>\n",
       "      <th>X4</th>\n",
       "      <th>X5</th>\n",
       "      <th>X6</th>\n",
       "      <th>X7</th>\n",
       "      <th>X8</th>\n",
       "      <th>Y1</th>\n",
       "      <th>Y2</th>\n",
       "    </tr>\n",
       "  </thead>\n",
       "  <tbody>\n",
       "    <tr>\n",
       "      <th>0</th>\n",
       "      <td>0.98</td>\n",
       "      <td>514.5</td>\n",
       "      <td>294.0</td>\n",
       "      <td>110.25</td>\n",
       "      <td>7.0</td>\n",
       "      <td>2</td>\n",
       "      <td>0.0</td>\n",
       "      <td>0</td>\n",
       "      <td>15.55</td>\n",
       "      <td>21.33</td>\n",
       "    </tr>\n",
       "    <tr>\n",
       "      <th>1</th>\n",
       "      <td>0.98</td>\n",
       "      <td>514.5</td>\n",
       "      <td>294.0</td>\n",
       "      <td>110.25</td>\n",
       "      <td>7.0</td>\n",
       "      <td>3</td>\n",
       "      <td>0.0</td>\n",
       "      <td>0</td>\n",
       "      <td>15.55</td>\n",
       "      <td>21.33</td>\n",
       "    </tr>\n",
       "    <tr>\n",
       "      <th>2</th>\n",
       "      <td>0.98</td>\n",
       "      <td>514.5</td>\n",
       "      <td>294.0</td>\n",
       "      <td>110.25</td>\n",
       "      <td>7.0</td>\n",
       "      <td>4</td>\n",
       "      <td>0.0</td>\n",
       "      <td>0</td>\n",
       "      <td>15.55</td>\n",
       "      <td>21.33</td>\n",
       "    </tr>\n",
       "    <tr>\n",
       "      <th>3</th>\n",
       "      <td>0.98</td>\n",
       "      <td>514.5</td>\n",
       "      <td>294.0</td>\n",
       "      <td>110.25</td>\n",
       "      <td>7.0</td>\n",
       "      <td>5</td>\n",
       "      <td>0.0</td>\n",
       "      <td>0</td>\n",
       "      <td>15.55</td>\n",
       "      <td>21.33</td>\n",
       "    </tr>\n",
       "    <tr>\n",
       "      <th>4</th>\n",
       "      <td>0.90</td>\n",
       "      <td>563.5</td>\n",
       "      <td>318.5</td>\n",
       "      <td>122.50</td>\n",
       "      <td>7.0</td>\n",
       "      <td>2</td>\n",
       "      <td>0.0</td>\n",
       "      <td>0</td>\n",
       "      <td>20.84</td>\n",
       "      <td>28.28</td>\n",
       "    </tr>\n",
       "    <tr>\n",
       "      <th>5</th>\n",
       "      <td>0.90</td>\n",
       "      <td>563.5</td>\n",
       "      <td>318.5</td>\n",
       "      <td>122.50</td>\n",
       "      <td>7.0</td>\n",
       "      <td>3</td>\n",
       "      <td>0.0</td>\n",
       "      <td>0</td>\n",
       "      <td>21.46</td>\n",
       "      <td>25.38</td>\n",
       "    </tr>\n",
       "  </tbody>\n",
       "</table>\n",
       "</div>"
      ],
      "text/plain": [
       "     X1     X2     X3      X4   X5  X6   X7  X8     Y1     Y2\n",
       "0  0.98  514.5  294.0  110.25  7.0   2  0.0   0  15.55  21.33\n",
       "1  0.98  514.5  294.0  110.25  7.0   3  0.0   0  15.55  21.33\n",
       "2  0.98  514.5  294.0  110.25  7.0   4  0.0   0  15.55  21.33\n",
       "3  0.98  514.5  294.0  110.25  7.0   5  0.0   0  15.55  21.33\n",
       "4  0.90  563.5  318.5  122.50  7.0   2  0.0   0  20.84  28.28\n",
       "5  0.90  563.5  318.5  122.50  7.0   3  0.0   0  21.46  25.38"
      ]
     },
     "execution_count": 2,
     "metadata": {},
     "output_type": "execute_result"
    }
   ],
   "source": [
    "data = pd.read_excel(\"https://archive.ics.uci.edu/ml/machine-learning-databases/00242/ENB2012_data.xlsx\")\n",
    "data.head(6)"
   ]
  },
  {
   "cell_type": "code",
   "execution_count": 4,
   "id": "e8f4d9e8-bafe-4a24-bf7d-265e9863abe1",
   "metadata": {},
   "outputs": [
    {
     "data": {
      "text/plain": [
       "(768, 10)"
      ]
     },
     "execution_count": 4,
     "metadata": {},
     "output_type": "execute_result"
    }
   ],
   "source": [
    "data.shape"
   ]
  },
  {
   "cell_type": "code",
   "execution_count": 5,
   "id": "ae9f783b-1ffb-47b9-833b-899cd34d61a7",
   "metadata": {},
   "outputs": [
    {
     "name": "stdout",
     "output_type": "stream",
     "text": [
      "<class 'pandas.core.frame.DataFrame'>\n",
      "RangeIndex: 768 entries, 0 to 767\n",
      "Data columns (total 10 columns):\n",
      " #   Column  Non-Null Count  Dtype  \n",
      "---  ------  --------------  -----  \n",
      " 0   X1      768 non-null    float64\n",
      " 1   X2      768 non-null    float64\n",
      " 2   X3      768 non-null    float64\n",
      " 3   X4      768 non-null    float64\n",
      " 4   X5      768 non-null    float64\n",
      " 5   X6      768 non-null    int64  \n",
      " 6   X7      768 non-null    float64\n",
      " 7   X8      768 non-null    int64  \n",
      " 8   Y1      768 non-null    float64\n",
      " 9   Y2      768 non-null    float64\n",
      "dtypes: float64(8), int64(2)\n",
      "memory usage: 60.1 KB\n"
     ]
    }
   ],
   "source": [
    "data.info()"
   ]
  },
  {
   "cell_type": "code",
   "execution_count": 6,
   "id": "c2880280-ee45-4520-ad62-60753ac3ca55",
   "metadata": {},
   "outputs": [
    {
     "data": {
      "text/html": [
       "<div>\n",
       "<style scoped>\n",
       "    .dataframe tbody tr th:only-of-type {\n",
       "        vertical-align: middle;\n",
       "    }\n",
       "\n",
       "    .dataframe tbody tr th {\n",
       "        vertical-align: top;\n",
       "    }\n",
       "\n",
       "    .dataframe thead th {\n",
       "        text-align: right;\n",
       "    }\n",
       "</style>\n",
       "<table border=\"1\" class=\"dataframe\">\n",
       "  <thead>\n",
       "    <tr style=\"text-align: right;\">\n",
       "      <th></th>\n",
       "      <th>X1</th>\n",
       "      <th>X2</th>\n",
       "      <th>X3</th>\n",
       "      <th>X4</th>\n",
       "      <th>X5</th>\n",
       "      <th>X6</th>\n",
       "      <th>X7</th>\n",
       "      <th>X8</th>\n",
       "      <th>Y1</th>\n",
       "      <th>Y2</th>\n",
       "    </tr>\n",
       "  </thead>\n",
       "  <tbody>\n",
       "    <tr>\n",
       "      <th>count</th>\n",
       "      <td>768.000000</td>\n",
       "      <td>768.000000</td>\n",
       "      <td>768.000000</td>\n",
       "      <td>768.000000</td>\n",
       "      <td>768.00000</td>\n",
       "      <td>768.000000</td>\n",
       "      <td>768.000000</td>\n",
       "      <td>768.00000</td>\n",
       "      <td>768.000000</td>\n",
       "      <td>768.000000</td>\n",
       "    </tr>\n",
       "    <tr>\n",
       "      <th>mean</th>\n",
       "      <td>0.764167</td>\n",
       "      <td>671.708333</td>\n",
       "      <td>318.500000</td>\n",
       "      <td>176.604167</td>\n",
       "      <td>5.25000</td>\n",
       "      <td>3.500000</td>\n",
       "      <td>0.234375</td>\n",
       "      <td>2.81250</td>\n",
       "      <td>22.307195</td>\n",
       "      <td>24.587760</td>\n",
       "    </tr>\n",
       "    <tr>\n",
       "      <th>std</th>\n",
       "      <td>0.105777</td>\n",
       "      <td>88.086116</td>\n",
       "      <td>43.626481</td>\n",
       "      <td>45.165950</td>\n",
       "      <td>1.75114</td>\n",
       "      <td>1.118763</td>\n",
       "      <td>0.133221</td>\n",
       "      <td>1.55096</td>\n",
       "      <td>10.090204</td>\n",
       "      <td>9.513306</td>\n",
       "    </tr>\n",
       "    <tr>\n",
       "      <th>min</th>\n",
       "      <td>0.620000</td>\n",
       "      <td>514.500000</td>\n",
       "      <td>245.000000</td>\n",
       "      <td>110.250000</td>\n",
       "      <td>3.50000</td>\n",
       "      <td>2.000000</td>\n",
       "      <td>0.000000</td>\n",
       "      <td>0.00000</td>\n",
       "      <td>6.010000</td>\n",
       "      <td>10.900000</td>\n",
       "    </tr>\n",
       "    <tr>\n",
       "      <th>25%</th>\n",
       "      <td>0.682500</td>\n",
       "      <td>606.375000</td>\n",
       "      <td>294.000000</td>\n",
       "      <td>140.875000</td>\n",
       "      <td>3.50000</td>\n",
       "      <td>2.750000</td>\n",
       "      <td>0.100000</td>\n",
       "      <td>1.75000</td>\n",
       "      <td>12.992500</td>\n",
       "      <td>15.620000</td>\n",
       "    </tr>\n",
       "    <tr>\n",
       "      <th>50%</th>\n",
       "      <td>0.750000</td>\n",
       "      <td>673.750000</td>\n",
       "      <td>318.500000</td>\n",
       "      <td>183.750000</td>\n",
       "      <td>5.25000</td>\n",
       "      <td>3.500000</td>\n",
       "      <td>0.250000</td>\n",
       "      <td>3.00000</td>\n",
       "      <td>18.950000</td>\n",
       "      <td>22.080000</td>\n",
       "    </tr>\n",
       "    <tr>\n",
       "      <th>75%</th>\n",
       "      <td>0.830000</td>\n",
       "      <td>741.125000</td>\n",
       "      <td>343.000000</td>\n",
       "      <td>220.500000</td>\n",
       "      <td>7.00000</td>\n",
       "      <td>4.250000</td>\n",
       "      <td>0.400000</td>\n",
       "      <td>4.00000</td>\n",
       "      <td>31.667500</td>\n",
       "      <td>33.132500</td>\n",
       "    </tr>\n",
       "    <tr>\n",
       "      <th>max</th>\n",
       "      <td>0.980000</td>\n",
       "      <td>808.500000</td>\n",
       "      <td>416.500000</td>\n",
       "      <td>220.500000</td>\n",
       "      <td>7.00000</td>\n",
       "      <td>5.000000</td>\n",
       "      <td>0.400000</td>\n",
       "      <td>5.00000</td>\n",
       "      <td>43.100000</td>\n",
       "      <td>48.030000</td>\n",
       "    </tr>\n",
       "  </tbody>\n",
       "</table>\n",
       "</div>"
      ],
      "text/plain": [
       "               X1          X2          X3          X4         X5          X6  \\\n",
       "count  768.000000  768.000000  768.000000  768.000000  768.00000  768.000000   \n",
       "mean     0.764167  671.708333  318.500000  176.604167    5.25000    3.500000   \n",
       "std      0.105777   88.086116   43.626481   45.165950    1.75114    1.118763   \n",
       "min      0.620000  514.500000  245.000000  110.250000    3.50000    2.000000   \n",
       "25%      0.682500  606.375000  294.000000  140.875000    3.50000    2.750000   \n",
       "50%      0.750000  673.750000  318.500000  183.750000    5.25000    3.500000   \n",
       "75%      0.830000  741.125000  343.000000  220.500000    7.00000    4.250000   \n",
       "max      0.980000  808.500000  416.500000  220.500000    7.00000    5.000000   \n",
       "\n",
       "               X7         X8          Y1          Y2  \n",
       "count  768.000000  768.00000  768.000000  768.000000  \n",
       "mean     0.234375    2.81250   22.307195   24.587760  \n",
       "std      0.133221    1.55096   10.090204    9.513306  \n",
       "min      0.000000    0.00000    6.010000   10.900000  \n",
       "25%      0.100000    1.75000   12.992500   15.620000  \n",
       "50%      0.250000    3.00000   18.950000   22.080000  \n",
       "75%      0.400000    4.00000   31.667500   33.132500  \n",
       "max      0.400000    5.00000   43.100000   48.030000  "
      ]
     },
     "execution_count": 6,
     "metadata": {},
     "output_type": "execute_result"
    }
   ],
   "source": [
    "data.describe()"
   ]
  },
  {
   "cell_type": "code",
   "execution_count": 9,
   "id": "c0739ebb-ccb9-4da9-9c2f-c3e12b0d03c9",
   "metadata": {},
   "outputs": [
    {
     "data": {
      "text/html": [
       "<div>\n",
       "<style scoped>\n",
       "    .dataframe tbody tr th:only-of-type {\n",
       "        vertical-align: middle;\n",
       "    }\n",
       "\n",
       "    .dataframe tbody tr th {\n",
       "        vertical-align: top;\n",
       "    }\n",
       "\n",
       "    .dataframe thead th {\n",
       "        text-align: right;\n",
       "    }\n",
       "</style>\n",
       "<table border=\"1\" class=\"dataframe\">\n",
       "  <thead>\n",
       "    <tr style=\"text-align: right;\">\n",
       "      <th></th>\n",
       "      <th>X1</th>\n",
       "      <th>X2</th>\n",
       "      <th>X3</th>\n",
       "      <th>X4</th>\n",
       "      <th>X5</th>\n",
       "      <th>X6</th>\n",
       "      <th>X7</th>\n",
       "      <th>X8</th>\n",
       "    </tr>\n",
       "  </thead>\n",
       "  <tbody>\n",
       "    <tr>\n",
       "      <th>0</th>\n",
       "      <td>0.98</td>\n",
       "      <td>514.5</td>\n",
       "      <td>294.0</td>\n",
       "      <td>110.25</td>\n",
       "      <td>7.0</td>\n",
       "      <td>2</td>\n",
       "      <td>0.0</td>\n",
       "      <td>0</td>\n",
       "    </tr>\n",
       "    <tr>\n",
       "      <th>1</th>\n",
       "      <td>0.98</td>\n",
       "      <td>514.5</td>\n",
       "      <td>294.0</td>\n",
       "      <td>110.25</td>\n",
       "      <td>7.0</td>\n",
       "      <td>3</td>\n",
       "      <td>0.0</td>\n",
       "      <td>0</td>\n",
       "    </tr>\n",
       "    <tr>\n",
       "      <th>2</th>\n",
       "      <td>0.98</td>\n",
       "      <td>514.5</td>\n",
       "      <td>294.0</td>\n",
       "      <td>110.25</td>\n",
       "      <td>7.0</td>\n",
       "      <td>4</td>\n",
       "      <td>0.0</td>\n",
       "      <td>0</td>\n",
       "    </tr>\n",
       "    <tr>\n",
       "      <th>3</th>\n",
       "      <td>0.98</td>\n",
       "      <td>514.5</td>\n",
       "      <td>294.0</td>\n",
       "      <td>110.25</td>\n",
       "      <td>7.0</td>\n",
       "      <td>5</td>\n",
       "      <td>0.0</td>\n",
       "      <td>0</td>\n",
       "    </tr>\n",
       "    <tr>\n",
       "      <th>4</th>\n",
       "      <td>0.90</td>\n",
       "      <td>563.5</td>\n",
       "      <td>318.5</td>\n",
       "      <td>122.50</td>\n",
       "      <td>7.0</td>\n",
       "      <td>2</td>\n",
       "      <td>0.0</td>\n",
       "      <td>0</td>\n",
       "    </tr>\n",
       "    <tr>\n",
       "      <th>5</th>\n",
       "      <td>0.90</td>\n",
       "      <td>563.5</td>\n",
       "      <td>318.5</td>\n",
       "      <td>122.50</td>\n",
       "      <td>7.0</td>\n",
       "      <td>3</td>\n",
       "      <td>0.0</td>\n",
       "      <td>0</td>\n",
       "    </tr>\n",
       "  </tbody>\n",
       "</table>\n",
       "</div>"
      ],
      "text/plain": [
       "     X1     X2     X3      X4   X5  X6   X7  X8\n",
       "0  0.98  514.5  294.0  110.25  7.0   2  0.0   0\n",
       "1  0.98  514.5  294.0  110.25  7.0   3  0.0   0\n",
       "2  0.98  514.5  294.0  110.25  7.0   4  0.0   0\n",
       "3  0.98  514.5  294.0  110.25  7.0   5  0.0   0\n",
       "4  0.90  563.5  318.5  122.50  7.0   2  0.0   0\n",
       "5  0.90  563.5  318.5  122.50  7.0   3  0.0   0"
      ]
     },
     "execution_count": 9,
     "metadata": {},
     "output_type": "execute_result"
    }
   ],
   "source": [
    "features= data.iloc[:, : -2]\n",
    "predictions= data.iloc[:, -2]\n",
    "features.head(6)"
   ]
  },
  {
   "cell_type": "code",
   "execution_count": 10,
   "id": "c22c5e41-73e8-466e-8d97-10818f0acba0",
   "metadata": {},
   "outputs": [
    {
     "data": {
      "text/plain": [
       "0    15.55\n",
       "1    15.55\n",
       "2    15.55\n",
       "3    15.55\n",
       "4    20.84\n",
       "5    21.46\n",
       "Name: Y1, dtype: float64"
      ]
     },
     "execution_count": 10,
     "metadata": {},
     "output_type": "execute_result"
    }
   ],
   "source": [
    "predictions.head(6)"
   ]
  },
  {
   "cell_type": "code",
   "execution_count": 41,
   "id": "05004229-e4a6-49fb-a29f-c398bf9d8083",
   "metadata": {},
   "outputs": [
    {
     "data": {
      "text/html": [
       "<div>\n",
       "<style scoped>\n",
       "    .dataframe tbody tr th:only-of-type {\n",
       "        vertical-align: middle;\n",
       "    }\n",
       "\n",
       "    .dataframe tbody tr th {\n",
       "        vertical-align: top;\n",
       "    }\n",
       "\n",
       "    .dataframe thead th {\n",
       "        text-align: right;\n",
       "    }\n",
       "</style>\n",
       "<table border=\"1\" class=\"dataframe\">\n",
       "  <thead>\n",
       "    <tr style=\"text-align: right;\">\n",
       "      <th></th>\n",
       "      <th>X1</th>\n",
       "      <th>X2</th>\n",
       "      <th>X3</th>\n",
       "      <th>X4</th>\n",
       "      <th>X5</th>\n",
       "      <th>X6</th>\n",
       "      <th>X7</th>\n",
       "      <th>X8</th>\n",
       "    </tr>\n",
       "  </thead>\n",
       "  <tbody>\n",
       "    <tr>\n",
       "      <th>0</th>\n",
       "      <td>2.041777</td>\n",
       "      <td>-1.785875</td>\n",
       "      <td>-0.561951</td>\n",
       "      <td>-1.470077</td>\n",
       "      <td>1.0</td>\n",
       "      <td>-1.341641</td>\n",
       "      <td>-1.760447</td>\n",
       "      <td>-1.814575</td>\n",
       "    </tr>\n",
       "    <tr>\n",
       "      <th>1</th>\n",
       "      <td>2.041777</td>\n",
       "      <td>-1.785875</td>\n",
       "      <td>-0.561951</td>\n",
       "      <td>-1.470077</td>\n",
       "      <td>1.0</td>\n",
       "      <td>-0.447214</td>\n",
       "      <td>-1.760447</td>\n",
       "      <td>-1.814575</td>\n",
       "    </tr>\n",
       "    <tr>\n",
       "      <th>2</th>\n",
       "      <td>2.041777</td>\n",
       "      <td>-1.785875</td>\n",
       "      <td>-0.561951</td>\n",
       "      <td>-1.470077</td>\n",
       "      <td>1.0</td>\n",
       "      <td>0.447214</td>\n",
       "      <td>-1.760447</td>\n",
       "      <td>-1.814575</td>\n",
       "    </tr>\n",
       "    <tr>\n",
       "      <th>3</th>\n",
       "      <td>2.041777</td>\n",
       "      <td>-1.785875</td>\n",
       "      <td>-0.561951</td>\n",
       "      <td>-1.470077</td>\n",
       "      <td>1.0</td>\n",
       "      <td>1.341641</td>\n",
       "      <td>-1.760447</td>\n",
       "      <td>-1.814575</td>\n",
       "    </tr>\n",
       "    <tr>\n",
       "      <th>4</th>\n",
       "      <td>1.284979</td>\n",
       "      <td>-1.229239</td>\n",
       "      <td>0.000000</td>\n",
       "      <td>-1.198678</td>\n",
       "      <td>1.0</td>\n",
       "      <td>-1.341641</td>\n",
       "      <td>-1.760447</td>\n",
       "      <td>-1.814575</td>\n",
       "    </tr>\n",
       "    <tr>\n",
       "      <th>5</th>\n",
       "      <td>1.284979</td>\n",
       "      <td>-1.229239</td>\n",
       "      <td>0.000000</td>\n",
       "      <td>-1.198678</td>\n",
       "      <td>1.0</td>\n",
       "      <td>-0.447214</td>\n",
       "      <td>-1.760447</td>\n",
       "      <td>-1.814575</td>\n",
       "    </tr>\n",
       "  </tbody>\n",
       "</table>\n",
       "</div>"
      ],
      "text/plain": [
       "         X1        X2        X3        X4   X5        X6        X7        X8\n",
       "0  2.041777 -1.785875 -0.561951 -1.470077  1.0 -1.341641 -1.760447 -1.814575\n",
       "1  2.041777 -1.785875 -0.561951 -1.470077  1.0 -0.447214 -1.760447 -1.814575\n",
       "2  2.041777 -1.785875 -0.561951 -1.470077  1.0  0.447214 -1.760447 -1.814575\n",
       "3  2.041777 -1.785875 -0.561951 -1.470077  1.0  1.341641 -1.760447 -1.814575\n",
       "4  1.284979 -1.229239  0.000000 -1.198678  1.0 -1.341641 -1.760447 -1.814575\n",
       "5  1.284979 -1.229239  0.000000 -1.198678  1.0 -0.447214 -1.760447 -1.814575"
      ]
     },
     "execution_count": 41,
     "metadata": {},
     "output_type": "execute_result"
    }
   ],
   "source": [
    "from sklearn.preprocessing import StandardScaler\n",
    "scaler= StandardScaler()\n",
    "features_scaled= scaler.fit_transform(features)\n",
    "features_scaled=pd.DataFrame(features_scaled, columns= features.columns)\n",
    "features_scaled.head(6)"
   ]
  },
  {
   "cell_type": "code",
   "execution_count": 42,
   "id": "e329395e-2408-414d-99ff-f3385469ea53",
   "metadata": {},
   "outputs": [
    {
     "name": "stdout",
     "output_type": "stream",
     "text": [
      "X_train shape: (614, 8)\n",
      "y_train shape: (614,)\n"
     ]
    }
   ],
   "source": [
    "from sklearn.model_selection import train_test_split\n",
    "X_train, X_test, y_train, y_test= train_test_split(features_scaled, predictions, test_size= 0.2, random_state= 42, shuffle= True)\n",
    "print(\"X_train shape:\", X_train.shape)\n",
    "print(\"y_train shape:\", y_train.shape)"
   ]
  },
  {
   "cell_type": "code",
   "execution_count": 43,
   "id": "f892dca7-c450-433d-ac5b-e13eb1476c71",
   "metadata": {
    "scrolled": true
   },
   "outputs": [
    {
     "data": {
      "text/html": [
       "<div>\n",
       "<style scoped>\n",
       "    .dataframe tbody tr th:only-of-type {\n",
       "        vertical-align: middle;\n",
       "    }\n",
       "\n",
       "    .dataframe tbody tr th {\n",
       "        vertical-align: top;\n",
       "    }\n",
       "\n",
       "    .dataframe thead th {\n",
       "        text-align: right;\n",
       "    }\n",
       "</style>\n",
       "<table border=\"1\" class=\"dataframe\">\n",
       "  <thead>\n",
       "    <tr style=\"text-align: right;\">\n",
       "      <th></th>\n",
       "      <th>X1</th>\n",
       "      <th>X2</th>\n",
       "      <th>X3</th>\n",
       "      <th>X4</th>\n",
       "      <th>X5</th>\n",
       "      <th>X6</th>\n",
       "      <th>X7</th>\n",
       "      <th>X8</th>\n",
       "      <th>Y1</th>\n",
       "    </tr>\n",
       "  </thead>\n",
       "  <tbody>\n",
       "    <tr>\n",
       "      <th>60</th>\n",
       "      <td>0.528182</td>\n",
       "      <td>-0.672602</td>\n",
       "      <td>0.000000</td>\n",
       "      <td>-0.655880</td>\n",
       "      <td>1.0</td>\n",
       "      <td>-1.341641</td>\n",
       "      <td>-1.009323</td>\n",
       "      <td>-1.169393</td>\n",
       "      <td>23.53</td>\n",
       "    </tr>\n",
       "    <tr>\n",
       "      <th>618</th>\n",
       "      <td>-1.174613</td>\n",
       "      <td>1.275625</td>\n",
       "      <td>0.561951</td>\n",
       "      <td>0.972512</td>\n",
       "      <td>-1.0</td>\n",
       "      <td>0.447214</td>\n",
       "      <td>1.244049</td>\n",
       "      <td>-0.524211</td>\n",
       "      <td>18.90</td>\n",
       "    </tr>\n",
       "    <tr>\n",
       "      <th>346</th>\n",
       "      <td>0.906580</td>\n",
       "      <td>-0.950920</td>\n",
       "      <td>-0.561951</td>\n",
       "      <td>-0.655880</td>\n",
       "      <td>1.0</td>\n",
       "      <td>0.447214</td>\n",
       "      <td>0.117363</td>\n",
       "      <td>-0.524211</td>\n",
       "      <td>29.27</td>\n",
       "    </tr>\n",
       "    <tr>\n",
       "      <th>294</th>\n",
       "      <td>1.284979</td>\n",
       "      <td>-1.229239</td>\n",
       "      <td>0.000000</td>\n",
       "      <td>-1.198678</td>\n",
       "      <td>1.0</td>\n",
       "      <td>0.447214</td>\n",
       "      <td>0.117363</td>\n",
       "      <td>-1.169393</td>\n",
       "      <td>32.84</td>\n",
       "    </tr>\n",
       "    <tr>\n",
       "      <th>231</th>\n",
       "      <td>-0.985413</td>\n",
       "      <td>0.997307</td>\n",
       "      <td>0.000000</td>\n",
       "      <td>0.972512</td>\n",
       "      <td>-1.0</td>\n",
       "      <td>1.341641</td>\n",
       "      <td>-1.009323</td>\n",
       "      <td>0.766154</td>\n",
       "      <td>11.43</td>\n",
       "    </tr>\n",
       "  </tbody>\n",
       "</table>\n",
       "</div>"
      ],
      "text/plain": [
       "           X1        X2        X3        X4   X5        X6        X7  \\\n",
       "60   0.528182 -0.672602  0.000000 -0.655880  1.0 -1.341641 -1.009323   \n",
       "618 -1.174613  1.275625  0.561951  0.972512 -1.0  0.447214  1.244049   \n",
       "346  0.906580 -0.950920 -0.561951 -0.655880  1.0  0.447214  0.117363   \n",
       "294  1.284979 -1.229239  0.000000 -1.198678  1.0  0.447214  0.117363   \n",
       "231 -0.985413  0.997307  0.000000  0.972512 -1.0  1.341641 -1.009323   \n",
       "\n",
       "           X8     Y1  \n",
       "60  -1.169393  23.53  \n",
       "618 -0.524211  18.90  \n",
       "346 -0.524211  29.27  \n",
       "294 -1.169393  32.84  \n",
       "231  0.766154  11.43  "
      ]
     },
     "execution_count": 43,
     "metadata": {},
     "output_type": "execute_result"
    }
   ],
   "source": [
    "Train_data = pd.concat([X_train, y_train], axis='columns')  # Join along the columns\n",
    "Train_data.columns = list(features.columns) + [\"Y1\"]\n",
    "Train_data.head()\n"
   ]
  },
  {
   "cell_type": "code",
   "execution_count": 44,
   "id": "ececf507-2069-4318-b3d7-fa20715cb651",
   "metadata": {},
   "outputs": [
    {
     "data": {
      "text/html": [
       "<div>\n",
       "<style scoped>\n",
       "    .dataframe tbody tr th:only-of-type {\n",
       "        vertical-align: middle;\n",
       "    }\n",
       "\n",
       "    .dataframe tbody tr th {\n",
       "        vertical-align: top;\n",
       "    }\n",
       "\n",
       "    .dataframe thead th {\n",
       "        text-align: right;\n",
       "    }\n",
       "</style>\n",
       "<table border=\"1\" class=\"dataframe\">\n",
       "  <thead>\n",
       "    <tr style=\"text-align: right;\">\n",
       "      <th></th>\n",
       "      <th>X1</th>\n",
       "      <th>X2</th>\n",
       "      <th>X3</th>\n",
       "      <th>X4</th>\n",
       "      <th>X5</th>\n",
       "      <th>X6</th>\n",
       "      <th>X7</th>\n",
       "      <th>X8</th>\n",
       "      <th>Y1</th>\n",
       "    </tr>\n",
       "  </thead>\n",
       "  <tbody>\n",
       "    <tr>\n",
       "      <th>count</th>\n",
       "      <td>614.000000</td>\n",
       "      <td>614.000000</td>\n",
       "      <td>614.000000</td>\n",
       "      <td>614.000000</td>\n",
       "      <td>614.000000</td>\n",
       "      <td>614.000000</td>\n",
       "      <td>614.000000</td>\n",
       "      <td>614.000000</td>\n",
       "      <td>614.000000</td>\n",
       "    </tr>\n",
       "    <tr>\n",
       "      <th>mean</th>\n",
       "      <td>-0.023547</td>\n",
       "      <td>0.024100</td>\n",
       "      <td>0.007322</td>\n",
       "      <td>0.019964</td>\n",
       "      <td>-0.016287</td>\n",
       "      <td>0.010197</td>\n",
       "      <td>0.007875</td>\n",
       "      <td>-0.008275</td>\n",
       "      <td>22.155033</td>\n",
       "    </tr>\n",
       "    <tr>\n",
       "      <th>std</th>\n",
       "      <td>0.997305</td>\n",
       "      <td>1.001505</td>\n",
       "      <td>0.993988</td>\n",
       "      <td>0.996094</td>\n",
       "      <td>1.000683</td>\n",
       "      <td>0.991593</td>\n",
       "      <td>1.007649</td>\n",
       "      <td>1.001263</td>\n",
       "      <td>10.054280</td>\n",
       "    </tr>\n",
       "    <tr>\n",
       "      <th>min</th>\n",
       "      <td>-1.363812</td>\n",
       "      <td>-1.785875</td>\n",
       "      <td>-1.685854</td>\n",
       "      <td>-1.470077</td>\n",
       "      <td>-1.000000</td>\n",
       "      <td>-1.341641</td>\n",
       "      <td>-1.760447</td>\n",
       "      <td>-1.814575</td>\n",
       "      <td>6.010000</td>\n",
       "    </tr>\n",
       "    <tr>\n",
       "      <th>25%</th>\n",
       "      <td>-0.985413</td>\n",
       "      <td>-0.672602</td>\n",
       "      <td>-0.561951</td>\n",
       "      <td>-0.655880</td>\n",
       "      <td>-1.000000</td>\n",
       "      <td>-0.447214</td>\n",
       "      <td>-1.009323</td>\n",
       "      <td>-1.008097</td>\n",
       "      <td>12.977500</td>\n",
       "    </tr>\n",
       "    <tr>\n",
       "      <th>50%</th>\n",
       "      <td>-0.228616</td>\n",
       "      <td>0.162352</td>\n",
       "      <td>0.000000</td>\n",
       "      <td>0.972512</td>\n",
       "      <td>-1.000000</td>\n",
       "      <td>0.447214</td>\n",
       "      <td>0.117363</td>\n",
       "      <td>0.120972</td>\n",
       "      <td>18.250000</td>\n",
       "    </tr>\n",
       "    <tr>\n",
       "      <th>75%</th>\n",
       "      <td>0.528182</td>\n",
       "      <td>0.997307</td>\n",
       "      <td>0.561951</td>\n",
       "      <td>0.972512</td>\n",
       "      <td>1.000000</td>\n",
       "      <td>0.447214</td>\n",
       "      <td>1.244049</td>\n",
       "      <td>0.766154</td>\n",
       "      <td>31.545000</td>\n",
       "    </tr>\n",
       "    <tr>\n",
       "      <th>max</th>\n",
       "      <td>2.041777</td>\n",
       "      <td>1.553943</td>\n",
       "      <td>2.247806</td>\n",
       "      <td>0.972512</td>\n",
       "      <td>1.000000</td>\n",
       "      <td>1.341641</td>\n",
       "      <td>1.244049</td>\n",
       "      <td>1.411336</td>\n",
       "      <td>43.100000</td>\n",
       "    </tr>\n",
       "  </tbody>\n",
       "</table>\n",
       "</div>"
      ],
      "text/plain": [
       "               X1          X2          X3          X4          X5          X6  \\\n",
       "count  614.000000  614.000000  614.000000  614.000000  614.000000  614.000000   \n",
       "mean    -0.023547    0.024100    0.007322    0.019964   -0.016287    0.010197   \n",
       "std      0.997305    1.001505    0.993988    0.996094    1.000683    0.991593   \n",
       "min     -1.363812   -1.785875   -1.685854   -1.470077   -1.000000   -1.341641   \n",
       "25%     -0.985413   -0.672602   -0.561951   -0.655880   -1.000000   -0.447214   \n",
       "50%     -0.228616    0.162352    0.000000    0.972512   -1.000000    0.447214   \n",
       "75%      0.528182    0.997307    0.561951    0.972512    1.000000    0.447214   \n",
       "max      2.041777    1.553943    2.247806    0.972512    1.000000    1.341641   \n",
       "\n",
       "               X7          X8          Y1  \n",
       "count  614.000000  614.000000  614.000000  \n",
       "mean     0.007875   -0.008275   22.155033  \n",
       "std      1.007649    1.001263   10.054280  \n",
       "min     -1.760447   -1.814575    6.010000  \n",
       "25%     -1.009323   -1.008097   12.977500  \n",
       "50%      0.117363    0.120972   18.250000  \n",
       "75%      1.244049    0.766154   31.545000  \n",
       "max      1.244049    1.411336   43.100000  "
      ]
     },
     "execution_count": 44,
     "metadata": {},
     "output_type": "execute_result"
    }
   ],
   "source": [
    "Train_data.describe()"
   ]
  },
  {
   "cell_type": "code",
   "execution_count": 45,
   "id": "27827c35-4dd9-4cc9-827e-8ea5be042e1c",
   "metadata": {},
   "outputs": [
    {
     "data": {
      "image/png": "[encoded data removed]",
      "text/plain": [
       "<Figure size 640x480 with 1 Axes>"
      ]
     },
     "metadata": {},
     "output_type": "display_data"
    }
   ],
   "source": [
    "import seaborn as sns\n",
    "sns.boxplot(data = X_train, orient= \"h\").set(xlabel=\"range\", ylabel=\"features\")\n",
    "plt.show()"
   ]
  },
  {
   "cell_type": "code",
   "execution_count": 46,
   "id": "0bc3870b-40b9-40be-a24a-1f27d509c3b3",
   "metadata": {},
   "outputs": [
    {
     "data": {
      "text/html": [
       "<div>\n",
       "<style scoped>\n",
       "    .dataframe tbody tr th:only-of-type {\n",
       "        vertical-align: middle;\n",
       "    }\n",
       "\n",
       "    .dataframe tbody tr th {\n",
       "        vertical-align: top;\n",
       "    }\n",
       "\n",
       "    .dataframe thead th {\n",
       "        text-align: right;\n",
       "    }\n",
       "</style>\n",
       "<table border=\"1\" class=\"dataframe\">\n",
       "  <thead>\n",
       "    <tr style=\"text-align: right;\">\n",
       "      <th></th>\n",
       "      <th>X1</th>\n",
       "      <th>X2</th>\n",
       "      <th>X3</th>\n",
       "      <th>X4</th>\n",
       "      <th>X5</th>\n",
       "      <th>X6</th>\n",
       "      <th>X7</th>\n",
       "      <th>X8</th>\n",
       "      <th>Y1</th>\n",
       "    </tr>\n",
       "  </thead>\n",
       "  <tbody>\n",
       "    <tr>\n",
       "      <th>X1</th>\n",
       "      <td>1.000000</td>\n",
       "      <td>-0.991923</td>\n",
       "      <td>-0.211912</td>\n",
       "      <td>-0.870389</td>\n",
       "      <td>0.831108</td>\n",
       "      <td>-0.003444</td>\n",
       "      <td>0.009575</td>\n",
       "      <td>0.001160</td>\n",
       "      <td>0.629314</td>\n",
       "    </tr>\n",
       "    <tr>\n",
       "      <th>X2</th>\n",
       "      <td>-0.991923</td>\n",
       "      <td>1.000000</td>\n",
       "      <td>0.204776</td>\n",
       "      <td>0.881746</td>\n",
       "      <td>-0.860752</td>\n",
       "      <td>0.005307</td>\n",
       "      <td>-0.012996</td>\n",
       "      <td>-0.001782</td>\n",
       "      <td>-0.664684</td>\n",
       "    </tr>\n",
       "    <tr>\n",
       "      <th>X3</th>\n",
       "      <td>-0.211912</td>\n",
       "      <td>0.204776</td>\n",
       "      <td>1.000000</td>\n",
       "      <td>-0.281167</td>\n",
       "      <td>0.267395</td>\n",
       "      <td>0.014898</td>\n",
       "      <td>-0.019823</td>\n",
       "      <td>-0.012122</td>\n",
       "      <td>0.439092</td>\n",
       "    </tr>\n",
       "    <tr>\n",
       "      <th>X4</th>\n",
       "      <td>-0.870389</td>\n",
       "      <td>0.881746</td>\n",
       "      <td>-0.281167</td>\n",
       "      <td>1.000000</td>\n",
       "      <td>-0.972779</td>\n",
       "      <td>-0.001977</td>\n",
       "      <td>-0.003189</td>\n",
       "      <td>0.004095</td>\n",
       "      <td>-0.863294</td>\n",
       "    </tr>\n",
       "    <tr>\n",
       "      <th>X5</th>\n",
       "      <td>0.831108</td>\n",
       "      <td>-0.860752</td>\n",
       "      <td>0.267395</td>\n",
       "      <td>-0.972779</td>\n",
       "      <td>1.000000</td>\n",
       "      <td>-0.007185</td>\n",
       "      <td>0.003697</td>\n",
       "      <td>-0.007357</td>\n",
       "      <td>0.889154</td>\n",
       "    </tr>\n",
       "    <tr>\n",
       "      <th>X6</th>\n",
       "      <td>-0.003444</td>\n",
       "      <td>0.005307</td>\n",
       "      <td>0.014898</td>\n",
       "      <td>-0.001977</td>\n",
       "      <td>-0.007185</td>\n",
       "      <td>1.000000</td>\n",
       "      <td>0.029363</td>\n",
       "      <td>0.010337</td>\n",
       "      <td>0.001772</td>\n",
       "    </tr>\n",
       "    <tr>\n",
       "      <th>X7</th>\n",
       "      <td>0.009575</td>\n",
       "      <td>-0.012996</td>\n",
       "      <td>-0.019823</td>\n",
       "      <td>-0.003189</td>\n",
       "      <td>0.003697</td>\n",
       "      <td>0.029363</td>\n",
       "      <td>1.000000</td>\n",
       "      <td>0.206917</td>\n",
       "      <td>0.276184</td>\n",
       "    </tr>\n",
       "    <tr>\n",
       "      <th>X8</th>\n",
       "      <td>0.001160</td>\n",
       "      <td>-0.001782</td>\n",
       "      <td>-0.012122</td>\n",
       "      <td>0.004095</td>\n",
       "      <td>-0.007357</td>\n",
       "      <td>0.010337</td>\n",
       "      <td>0.206917</td>\n",
       "      <td>1.000000</td>\n",
       "      <td>0.080206</td>\n",
       "    </tr>\n",
       "    <tr>\n",
       "      <th>Y1</th>\n",
       "      <td>0.629314</td>\n",
       "      <td>-0.664684</td>\n",
       "      <td>0.439092</td>\n",
       "      <td>-0.863294</td>\n",
       "      <td>0.889154</td>\n",
       "      <td>0.001772</td>\n",
       "      <td>0.276184</td>\n",
       "      <td>0.080206</td>\n",
       "      <td>1.000000</td>\n",
       "    </tr>\n",
       "  </tbody>\n",
       "</table>\n",
       "</div>"
      ],
      "text/plain": [
       "          X1        X2        X3        X4        X5        X6        X7  \\\n",
       "X1  1.000000 -0.991923 -0.211912 -0.870389  0.831108 -0.003444  0.009575   \n",
       "X2 -0.991923  1.000000  0.204776  0.881746 -0.860752  0.005307 -0.012996   \n",
       "X3 -0.211912  0.204776  1.000000 -0.281167  0.267395  0.014898 -0.019823   \n",
       "X4 -0.870389  0.881746 -0.281167  1.000000 -0.972779 -0.001977 -0.003189   \n",
       "X5  0.831108 -0.860752  0.267395 -0.972779  1.000000 -0.007185  0.003697   \n",
       "X6 -0.003444  0.005307  0.014898 -0.001977 -0.007185  1.000000  0.029363   \n",
       "X7  0.009575 -0.012996 -0.019823 -0.003189  0.003697  0.029363  1.000000   \n",
       "X8  0.001160 -0.001782 -0.012122  0.004095 -0.007357  0.010337  0.206917   \n",
       "Y1  0.629314 -0.664684  0.439092 -0.863294  0.889154  0.001772  0.276184   \n",
       "\n",
       "          X8        Y1  \n",
       "X1  0.001160  0.629314  \n",
       "X2 -0.001782 -0.664684  \n",
       "X3 -0.012122  0.439092  \n",
       "X4  0.004095 -0.863294  \n",
       "X5 -0.007357  0.889154  \n",
       "X6  0.010337  0.001772  \n",
       "X7  0.206917  0.276184  \n",
       "X8  1.000000  0.080206  \n",
       "Y1  0.080206  1.000000  "
      ]
     },
     "execution_count": 46,
     "metadata": {},
     "output_type": "execute_result"
    }
   ],
   "source": [
    "corr_mat= Train_data.corr(method='pearson')\n",
    "corr_mat"
   ]
  },
  {
   "cell_type": "code",
   "execution_count": 47,
   "id": "7a2545c2-9081-4c8e-b108-d00f1745e590",
   "metadata": {},
   "outputs": [
    {
     "data": {
      "image/png": "[encoded data removed]",
      "text/plain": [
       "<Figure size 480x480 with 2 Axes>"
      ]
     },
     "metadata": {},
     "output_type": "display_data"
    }
   ],
   "source": [
    "plt.matshow(corr_mat)\n",
    "plt.xticks(range(len(corr_mat.columns)),corr_mat.columns, rotation=90)\n",
    "plt.yticks(range(len(corr_mat.columns)),corr_mat.columns)\n",
    "plt.colorbar()\n",
    "plt.show()"
   ]
  },
  {
   "cell_type": "code",
   "execution_count": 51,
   "id": "56da6bb0-478c-40f1-8e29-3cca55bd48b3",
   "metadata": {},
   "outputs": [
    {
     "data": {
      "image/png": "[encoded data removed]",
      "text/plain": [
       "<Figure size 1500x800 with 8 Axes>"
      ]
     },
     "metadata": {},
     "output_type": "display_data"
    }
   ],
   "source": [
    "import matplotlib.pyplot as plt\n",
    "fig, axs = plt.subplots(2, 4, figsize=(15, 8))\n",
    "axs = axs.flatten()\n",
    "\n",
    "# Loop through the columns and create histograms\n",
    "for i, col in enumerate(Train_data.columns[:-1]):  # Exclude the target column\n",
    "    axs[i].hist(Train_data[col], bins=50, color='blue', alpha=0.7)\n",
    "    axs[i].set_title(col)\n",
    "\n",
    "plt.tight_layout()\n",
    "plt.show()"
   ]
  },
  {
   "cell_type": "code",
   "execution_count": 52,
   "id": "1d68bb46-a686-4900-910b-fdd5b1615ae9",
   "metadata": {},
   "outputs": [
    {
     "data": {
      "text/plain": [
       "X1     12\n",
       "X2     12\n",
       "X3      7\n",
       "X4      4\n",
       "X5      2\n",
       "X6      4\n",
       "X7      4\n",
       "X8      6\n",
       "Y1    490\n",
       "dtype: int64"
      ]
     },
     "execution_count": 52,
     "metadata": {},
     "output_type": "execute_result"
    }
   ],
   "source": [
    "unique_values= Train_data.nunique()\n",
    "unique_values"
   ]
  },
  {
   "cell_type": "code",
   "execution_count": 56,
   "id": "b6301b67-0493-4a6f-86c3-544492f044b7",
   "metadata": {},
   "outputs": [
    {
     "data": {
      "image/png": "[encoded data removed]",
      "text/plain": [
       "<Figure size 1000x500 with 2 Axes>"
      ]
     },
     "metadata": {},
     "output_type": "display_data"
    }
   ],
   "source": [
    "fig, axs = plt.subplots(1, 2, figsize=(10, 5))\n",
    "axs = axs.flatten()\n",
    "\n",
    "# Boxplots\n",
    "sns.boxplot(x=\"variable\", y=\"value\", data=pd.melt(Train_data[[\"Y1\"]]), ax=axs[0])\n",
    "axs[0].set_title(\"Boxplots of Y1 \")\n",
    "\n",
    "# Histograms\n",
    "sns.histplot(data=Train_data[[\"Y1\"]], ax=axs[1], bins=20, kde=True)\n",
    "axs[1].set(xlabel='Bin (20 values)')\n",
    "axs[1].set_title(\"Histograms of Y1\")\n",
    "\n",
    "plt.tight_layout()\n",
    "plt.show()\n"
   ]
  },
  {
   "cell_type": "code",
   "execution_count": 57,
   "id": "532ee38e-2c6a-4bbc-816c-ade9d0c91e1d",
   "metadata": {},
   "outputs": [],
   "source": [
    "from sklearn.neighbors import KNeighborsRegressor\n",
    "model= knn= KNeighborsRegressor(n_neighbors=6)\n",
    "model.fit(X_train,y_train)\n",
    "y_pred_train= model.predict(X_train)\n",
    "y_pred= model.predict(X_test)"
   ]
  },
  {
   "cell_type": "code",
   "execution_count": 58,
   "id": "09d2b50a-27e8-4d7f-a1bd-9438422fbe63",
   "metadata": {},
   "outputs": [
    {
     "name": "stdout",
     "output_type": "stream",
     "text": [
      "mse train:  3.8230142508143317\n",
      "mae train:  1.2696579804560262\n",
      "r2 train:  0.9621198369755405\n"
     ]
    }
   ],
   "source": [
    "from sklearn.metrics import mean_squared_error, mean_absolute_error, r2_score\n",
    "mse_train= mean_squared_error(y_train, y_pred_train)\n",
    "mae_train=mean_absolute_error(y_train, y_pred_train)\n",
    "r2_train=r2_score(y_train,y_pred_train)\n",
    "\n",
    "print(\"mse train: \", mse_train)\n",
    "print(\"mae train: \", mae_train)\n",
    "print(\"r2 train: \", r2_train)"
   ]
  },
  {
   "cell_type": "code",
   "execution_count": 60,
   "id": "970f3e74-12f8-432e-9521-983365a1207d",
   "metadata": {},
   "outputs": [
    {
     "name": "stdout",
     "output_type": "stream",
     "text": [
      "Evaluation Matrix: \n",
      "\n",
      "mse test:  5.199351759740258\n",
      "mae test:  1.505655844155844\n",
      "r2 test:  0.9501177052745498\n"
     ]
    }
   ],
   "source": [
    "mse_test= mean_squared_error(y_test, y_pred)\n",
    "mae_test=mean_absolute_error(y_test, y_pred)\n",
    "r2_test=r2_score(y_test,y_pred)\n",
    "\n",
    "print(\"Evaluation Matrix: \\n\")\n",
    "print(\"mse test: \", mse_test)\n",
    "print(\"mae test: \", mae_test)\n",
    "print(\"r2 test: \", r2_test)"
   ]
  },
  {
   "cell_type": "code",
   "execution_count": 62,
   "id": "144ff494-8849-49de-aa91-ab727f42a421",
   "metadata": {},
   "outputs": [],
   "source": [
    "X_train_selected= X_train.drop([\"X6\", \"X8\"], axis= 1, inplace= False)\n",
    "X_test_selected= X_test.drop([\"X6\", \"X8\"], axis= 1, inplace= False)"
   ]
  },
  {
   "cell_type": "code",
   "execution_count": 68,
   "id": "dbd52cd9-0a89-4072-8aed-335619ea902f",
   "metadata": {},
   "outputs": [
    {
     "name": "stdout",
     "output_type": "stream",
     "text": [
      "y_test shape: (154,)\n",
      "y_pred_train_selected shape: (614,)\n",
      "Updated y_pred_train_selected shape: (154,)\n",
      "R-squared score for updated predictions: 0.9501177052745498\n"
     ]
    }
   ],
   "source": [
    "model_selected= knn= KNeighborsRegressor(n_neighbors=6)\n",
    "model_selected.fit(X_train_selected,y_train)\n",
    "y_pred_train_selected= model_selected.predict(X_train_selected)\n",
    "y_pred_test_selected= model_selected.predict(X_test_selected)\n",
    "\n",
    "# Check the shape of y_test and y_pred_train_selected\n",
    "print(\"y_test shape:\", y_test.shape)\n",
    "print(\"y_pred_train_selected shape:\", y_pred_train_selected.shape)\n",
    "\n",
    "# If they don't match, you may need to split your data correctly or recalculate predictions\n",
    "# Ensure X_test is the same data used for prediction\n",
    "# Example:\n",
    "# X_test = X_train[selected_indices]  # Assuming 'selected_indices' is the correct test data\n",
    "\n",
    "# Then, generate predictions using the same model and X_test\n",
    "y_pred_train_selected = model.predict(X_test)\n",
    "\n",
    "# Now, y_pred_train_selected should have the same shape as y_test\n",
    "print(\"Updated y_pred_train_selected shape:\", y_pred_train_selected.shape)\n",
    "\n",
    "# Calculate the R-squared score\n",
    "r2_train_selected = r2_score(y_test, y_pred_train_selected)\n",
    "print(\"R-squared score for updated predictions:\", r2_train_selected)\n"
   ]
  },
  {
   "cell_type": "code",
   "execution_count": 70,
   "id": "89a735b3-7755-4847-b182-de9c967bf527",
   "metadata": {},
   "outputs": [
    {
     "name": "stdout",
     "output_type": "stream",
     "text": [
      "r2 test:  0.9501177052745498\n",
      "r2 test:  0.9926248224537108\n"
     ]
    }
   ],
   "source": [
    "r2_train_selected=r2_score(y_test,y_pred_train_selected)\n",
    "print(\"r2 test: \", r2_train_selected)\n",
    "\n",
    "r2_test_selected=r2_score(y_test,y_pred_test_selected)\n",
    "print(\"r2 test: \", r2_test_selected)\n"
   ]
  },
  {
   "cell_type": "code",
   "execution_count": 85,
   "id": "1a09fd02-8545-4e07-a8e9-2e77fe483a9f",
   "metadata": {},
   "outputs": [
    {
     "data": {
      "text/html": [
       "<style>#sk-container-id-3 {color: black;}#sk-container-id-3 pre{padding: 0;}#sk-container-id-3 div.sk-toggleable {background-color: white;}#sk-container-id-3 label.sk-toggleable__label {cursor: pointer;display: block;width: 100%;margin-bottom: 0;padding: 0.3em;box-sizing: border-box;text-align: center;}#sk-container-id-3 label.sk-toggleable__label-arrow:before {content: \"▸\";float: left;margin-right: 0.25em;color: #696969;}#sk-container-id-3 label.sk-toggleable__label-arrow:hover:before {color: black;}#sk-container-id-3 div.sk-estimator:hover label.sk-toggleable__label-arrow:before {color: black;}#sk-container-id-3 div.sk-toggleable__content {max-height: 0;max-width: 0;overflow: hidden;text-align: left;background-color: #f0f8ff;}#sk-container-id-3 div.sk-toggleable__content pre {margin: 0.2em;color: black;border-radius: 0.25em;background-color: #f0f8ff;}#sk-container-id-3 input.sk-toggleable__control:checked~div.sk-toggleable__content {max-height: 200px;max-width: 100%;overflow: auto;}#sk-container-id-3 input.sk-toggleable__control:checked~label.sk-toggleable__label-arrow:before {content: \"▾\";}#sk-container-id-3 div.sk-estimator input.sk-toggleable__control:checked~label.sk-toggleable__label {background-color: #d4ebff;}#sk-container-id-3 div.sk-label input.sk-toggleable__control:checked~label.sk-toggleable__label {background-color: #d4ebff;}#sk-container-id-3 input.sk-hidden--visually {border: 0;clip: rect(1px 1px 1px 1px);clip: rect(1px, 1px, 1px, 1px);height: 1px;margin: -1px;overflow: hidden;padding: 0;position: absolute;width: 1px;}#sk-container-id-3 div.sk-estimator {font-family: monospace;background-color: #f0f8ff;border: 1px dotted black;border-radius: 0.25em;box-sizing: border-box;margin-bottom: 0.5em;}#sk-container-id-3 div.sk-estimator:hover {background-color: #d4ebff;}#sk-container-id-3 div.sk-parallel-item::after {content: \"\";width: 100%;border-bottom: 1px solid gray;flex-grow: 1;}#sk-container-id-3 div.sk-label:hover label.sk-toggleable__label {background-color: #d4ebff;}#sk-container-id-3 div.sk-serial::before {content: \"\";position: absolute;border-left: 1px solid gray;box-sizing: border-box;top: 0;bottom: 0;left: 50%;z-index: 0;}#sk-container-id-3 div.sk-serial {display: flex;flex-direction: column;align-items: center;background-color: white;padding-right: 0.2em;padding-left: 0.2em;position: relative;}#sk-container-id-3 div.sk-item {position: relative;z-index: 1;}#sk-container-id-3 div.sk-parallel {display: flex;align-items: stretch;justify-content: center;background-color: white;position: relative;}#sk-container-id-3 div.sk-item::before, #sk-container-id-3 div.sk-parallel-item::before {content: \"\";position: absolute;border-left: 1px solid gray;box-sizing: border-box;top: 0;bottom: 0;left: 50%;z-index: -1;}#sk-container-id-3 div.sk-parallel-item {display: flex;flex-direction: column;z-index: 1;position: relative;background-color: white;}#sk-container-id-3 div.sk-parallel-item:first-child::after {align-self: flex-end;width: 50%;}#sk-container-id-3 div.sk-parallel-item:last-child::after {align-self: flex-start;width: 50%;}#sk-container-id-3 div.sk-parallel-item:only-child::after {width: 0;}#sk-container-id-3 div.sk-dashed-wrapped {border: 1px dashed gray;margin: 0 0.4em 0.5em 0.4em;box-sizing: border-box;padding-bottom: 0.4em;background-color: white;}#sk-container-id-3 div.sk-label label {font-family: monospace;font-weight: bold;display: inline-block;line-height: 1.2em;}#sk-container-id-3 div.sk-label-container {text-align: center;}#sk-container-id-3 div.sk-container {/* jupyter's `normalize.less` sets `[hidden] { display: none; }` but bootstrap.min.css set `[hidden] { display: none !important; }` so we also need the `!important` here to be able to override the default hidden behavior on the sphinx rendered scikit-learn.org. See: https://github.com/scikit-learn/scikit-learn/issues/21755 */display: inline-block !important;position: relative;}#sk-container-id-3 div.sk-text-repr-fallback {display: none;}</style><div id=\"sk-container-id-3\" class=\"sk-top-container\"><div class=\"sk-text-repr-fallback\"><pre>LogisticRegression()</pre><b>In a Jupyter environment, please rerun this cell to show the HTML representation or trust the notebook. <br />On GitHub, the HTML representation is unable to render, please try loading this page with nbviewer.org.</b></div><div class=\"sk-container\" hidden><div class=\"sk-item\"><div class=\"sk-estimator sk-toggleable\"><input class=\"sk-toggleable__control sk-hidden--visually\" id=\"sk-estimator-id-3\" type=\"checkbox\" checked><label for=\"sk-estimator-id-3\" class=\"sk-toggleable__label sk-toggleable__label-arrow\">LogisticRegression</label><div class=\"sk-toggleable__content\"><pre>LogisticRegression()</pre></div></div></div></div></div>"
      ],
      "text/plain": [
       "LogisticRegression()"
      ]
     },
     "execution_count": 85,
     "metadata": {},
     "output_type": "execute_result"
    }
   ],
   "source": [
    "from sklearn.linear_model import LogisticRegression\n",
    "X= np.array([110,110,123,207,236])\n",
    "y= np.array([0,0,0,1,1])\n",
    "X = X.reshape(-1, 1)\n",
    "\n",
    "model= LogisticRegression()\n",
    "model.fit(X,y)\n",
    "\n"
   ]
  },
  {
   "cell_type": "code",
   "execution_count": 86,
   "id": "0286cfd0-7330-4729-aa1e-0f6b307921d6",
   "metadata": {},
   "outputs": [
    {
     "name": "stdout",
     "output_type": "stream",
     "text": [
      "1\n"
     ]
    }
   ],
   "source": [
    "x_test = np.array([198]).reshape(-1, 1)  # Replace 42 with your test data\n",
    "y_pred = model.predict(x_test)\n",
    "print(y_pred[0])\n"
   ]
  },
  {
   "cell_type": "code",
   "execution_count": 88,
   "id": "9a4816e9-92e5-4fbe-8302-c67ae14ecd6a",
   "metadata": {},
   "outputs": [
    {
     "name": "stdout",
     "output_type": "stream",
     "text": [
      "intercept:  [-25.5044376]\n",
      "coefficient: [[0.15387904]]\n"
     ]
    }
   ],
   "source": [
    "print(\"intercept: \",model.intercept_)\n",
    "print(\"coefficient:\" ,model.coef_)"
   ]
  },
  {
   "cell_type": "code",
   "execution_count": 93,
   "id": "199c8407-5643-4423-9be3-9c11c5d945c3",
   "metadata": {},
   "outputs": [
    {
     "data": {
      "text/html": [
       "<style>#sk-container-id-4 {color: black;}#sk-container-id-4 pre{padding: 0;}#sk-container-id-4 div.sk-toggleable {background-color: white;}#sk-container-id-4 label.sk-toggleable__label {cursor: pointer;display: block;width: 100%;margin-bottom: 0;padding: 0.3em;box-sizing: border-box;text-align: center;}#sk-container-id-4 label.sk-toggleable__label-arrow:before {content: \"▸\";float: left;margin-right: 0.25em;color: #696969;}#sk-container-id-4 label.sk-toggleable__label-arrow:hover:before {color: black;}#sk-container-id-4 div.sk-estimator:hover label.sk-toggleable__label-arrow:before {color: black;}#sk-container-id-4 div.sk-toggleable__content {max-height: 0;max-width: 0;overflow: hidden;text-align: left;background-color: #f0f8ff;}#sk-container-id-4 div.sk-toggleable__content pre {margin: 0.2em;color: black;border-radius: 0.25em;background-color: #f0f8ff;}#sk-container-id-4 input.sk-toggleable__control:checked~div.sk-toggleable__content {max-height: 200px;max-width: 100%;overflow: auto;}#sk-container-id-4 input.sk-toggleable__control:checked~label.sk-toggleable__label-arrow:before {content: \"▾\";}#sk-container-id-4 div.sk-estimator input.sk-toggleable__control:checked~label.sk-toggleable__label {background-color: #d4ebff;}#sk-container-id-4 div.sk-label input.sk-toggleable__control:checked~label.sk-toggleable__label {background-color: #d4ebff;}#sk-container-id-4 input.sk-hidden--visually {border: 0;clip: rect(1px 1px 1px 1px);clip: rect(1px, 1px, 1px, 1px);height: 1px;margin: -1px;overflow: hidden;padding: 0;position: absolute;width: 1px;}#sk-container-id-4 div.sk-estimator {font-family: monospace;background-color: #f0f8ff;border: 1px dotted black;border-radius: 0.25em;box-sizing: border-box;margin-bottom: 0.5em;}#sk-container-id-4 div.sk-estimator:hover {background-color: #d4ebff;}#sk-container-id-4 div.sk-parallel-item::after {content: \"\";width: 100%;border-bottom: 1px solid gray;flex-grow: 1;}#sk-container-id-4 div.sk-label:hover label.sk-toggleable__label {background-color: #d4ebff;}#sk-container-id-4 div.sk-serial::before {content: \"\";position: absolute;border-left: 1px solid gray;box-sizing: border-box;top: 0;bottom: 0;left: 50%;z-index: 0;}#sk-container-id-4 div.sk-serial {display: flex;flex-direction: column;align-items: center;background-color: white;padding-right: 0.2em;padding-left: 0.2em;position: relative;}#sk-container-id-4 div.sk-item {position: relative;z-index: 1;}#sk-container-id-4 div.sk-parallel {display: flex;align-items: stretch;justify-content: center;background-color: white;position: relative;}#sk-container-id-4 div.sk-item::before, #sk-container-id-4 div.sk-parallel-item::before {content: \"\";position: absolute;border-left: 1px solid gray;box-sizing: border-box;top: 0;bottom: 0;left: 50%;z-index: -1;}#sk-container-id-4 div.sk-parallel-item {display: flex;flex-direction: column;z-index: 1;position: relative;background-color: white;}#sk-container-id-4 div.sk-parallel-item:first-child::after {align-self: flex-end;width: 50%;}#sk-container-id-4 div.sk-parallel-item:last-child::after {align-self: flex-start;width: 50%;}#sk-container-id-4 div.sk-parallel-item:only-child::after {width: 0;}#sk-container-id-4 div.sk-dashed-wrapped {border: 1px dashed gray;margin: 0 0.4em 0.5em 0.4em;box-sizing: border-box;padding-bottom: 0.4em;background-color: white;}#sk-container-id-4 div.sk-label label {font-family: monospace;font-weight: bold;display: inline-block;line-height: 1.2em;}#sk-container-id-4 div.sk-label-container {text-align: center;}#sk-container-id-4 div.sk-container {/* jupyter's `normalize.less` sets `[hidden] { display: none; }` but bootstrap.min.css set `[hidden] { display: none !important; }` so we also need the `!important` here to be able to override the default hidden behavior on the sphinx rendered scikit-learn.org. See: https://github.com/scikit-learn/scikit-learn/issues/21755 */display: inline-block !important;position: relative;}#sk-container-id-4 div.sk-text-repr-fallback {display: none;}</style><div id=\"sk-container-id-4\" class=\"sk-top-container\"><div class=\"sk-text-repr-fallback\"><pre>LogisticRegression()</pre><b>In a Jupyter environment, please rerun this cell to show the HTML representation or trust the notebook. <br />On GitHub, the HTML representation is unable to render, please try loading this page with nbviewer.org.</b></div><div class=\"sk-container\" hidden><div class=\"sk-item\"><div class=\"sk-estimator sk-toggleable\"><input class=\"sk-toggleable__control sk-hidden--visually\" id=\"sk-estimator-id-4\" type=\"checkbox\" checked><label for=\"sk-estimator-id-4\" class=\"sk-toggleable__label sk-toggleable__label-arrow\">LogisticRegression</label><div class=\"sk-toggleable__content\"><pre>LogisticRegression()</pre></div></div></div></div></div>"
      ],
      "text/plain": [
       "LogisticRegression()"
      ]
     },
     "execution_count": 93,
     "metadata": {},
     "output_type": "execute_result"
    }
   ],
   "source": [
    "X= np.array([39,47,28,15,24])\n",
    "y= np.array([1,1,1,0,0])\n",
    "X = X.reshape(-1, 1)\n",
    "\n",
    "model= LogisticRegression()\n",
    "model.fit(X,y)"
   ]
  },
  {
   "cell_type": "code",
   "execution_count": 96,
   "id": "e25c9eaf-f432-4e5c-9804-20d3c4c2e469",
   "metadata": {},
   "outputs": [
    {
     "data": {
      "text/plain": [
       "1"
      ]
     },
     "execution_count": 96,
     "metadata": {},
     "output_type": "execute_result"
    }
   ],
   "source": [
    "x_test= np.array([30]).reshape(-1, 1)\n",
    "y_pred= model.predict(x_test)\n",
    "y_pred[0]"
   ]
  },
  {
   "cell_type": "code",
   "execution_count": 143,
   "id": "e2430ef7-1ffd-49e5-9f5a-cb00afe7fee5",
   "metadata": {},
   "outputs": [
    {
     "data": {
      "text/html": [
       "<div>\n",
       "<style scoped>\n",
       "    .dataframe tbody tr th:only-of-type {\n",
       "        vertical-align: middle;\n",
       "    }\n",
       "\n",
       "    .dataframe tbody tr th {\n",
       "        vertical-align: top;\n",
       "    }\n",
       "\n",
       "    .dataframe thead th {\n",
       "        text-align: right;\n",
       "    }\n",
       "</style>\n",
       "<table border=\"1\" class=\"dataframe\">\n",
       "  <thead>\n",
       "    <tr style=\"text-align: right;\">\n",
       "      <th></th>\n",
       "      <th>sepal_length</th>\n",
       "      <th>sepal_width</th>\n",
       "      <th>petal_length</th>\n",
       "      <th>petal_width</th>\n",
       "      <th>species</th>\n",
       "    </tr>\n",
       "  </thead>\n",
       "  <tbody>\n",
       "    <tr>\n",
       "      <th>0</th>\n",
       "      <td>5.1</td>\n",
       "      <td>3.5</td>\n",
       "      <td>1.4</td>\n",
       "      <td>0.2</td>\n",
       "      <td>Iris-setosa</td>\n",
       "    </tr>\n",
       "    <tr>\n",
       "      <th>1</th>\n",
       "      <td>4.9</td>\n",
       "      <td>3.0</td>\n",
       "      <td>1.4</td>\n",
       "      <td>0.2</td>\n",
       "      <td>Iris-setosa</td>\n",
       "    </tr>\n",
       "    <tr>\n",
       "      <th>2</th>\n",
       "      <td>4.7</td>\n",
       "      <td>3.2</td>\n",
       "      <td>1.3</td>\n",
       "      <td>0.2</td>\n",
       "      <td>Iris-setosa</td>\n",
       "    </tr>\n",
       "    <tr>\n",
       "      <th>3</th>\n",
       "      <td>4.6</td>\n",
       "      <td>3.1</td>\n",
       "      <td>1.5</td>\n",
       "      <td>0.2</td>\n",
       "      <td>Iris-setosa</td>\n",
       "    </tr>\n",
       "    <tr>\n",
       "      <th>4</th>\n",
       "      <td>5.0</td>\n",
       "      <td>3.6</td>\n",
       "      <td>1.4</td>\n",
       "      <td>0.2</td>\n",
       "      <td>Iris-setosa</td>\n",
       "    </tr>\n",
       "  </tbody>\n",
       "</table>\n",
       "</div>"
      ],
      "text/plain": [
       "   sepal_length  sepal_width  petal_length  petal_width      species\n",
       "0           5.1          3.5           1.4          0.2  Iris-setosa\n",
       "1           4.9          3.0           1.4          0.2  Iris-setosa\n",
       "2           4.7          3.2           1.3          0.2  Iris-setosa\n",
       "3           4.6          3.1           1.5          0.2  Iris-setosa\n",
       "4           5.0          3.6           1.4          0.2  Iris-setosa"
      ]
     },
     "execution_count": 143,
     "metadata": {},
     "output_type": "execute_result"
    }
   ],
   "source": [
    "df = pd.read_csv(\"https://archive.ics.uci.edu/ml/machine-learning-databases/iris/iris.data\", header=None, names=['sepal_length', 'sepal_width', 'petal_length', 'petal_width', 'species'])\n",
    "#Print\n",
    "df.head()"
   ]
  },
  {
   "cell_type": "code",
   "execution_count": 144,
   "id": "d09a9a70-4de2-475e-9541-47d5543254ba",
   "metadata": {},
   "outputs": [
    {
     "data": {
      "text/plain": [
       "(150, 5)"
      ]
     },
     "execution_count": 144,
     "metadata": {},
     "output_type": "execute_result"
    }
   ],
   "source": [
    "df.shape"
   ]
  },
  {
   "cell_type": "code",
   "execution_count": 145,
   "id": "1b8df518-1357-42be-8bb3-8b995824e6b1",
   "metadata": {},
   "outputs": [
    {
     "name": "stdout",
     "output_type": "stream",
     "text": [
      "<class 'pandas.core.frame.DataFrame'>\n",
      "RangeIndex: 150 entries, 0 to 149\n",
      "Data columns (total 5 columns):\n",
      " #   Column        Non-Null Count  Dtype  \n",
      "---  ------        --------------  -----  \n",
      " 0   sepal_length  150 non-null    float64\n",
      " 1   sepal_width   150 non-null    float64\n",
      " 2   petal_length  150 non-null    float64\n",
      " 3   petal_width   150 non-null    float64\n",
      " 4   species       150 non-null    object \n",
      "dtypes: float64(4), object(1)\n",
      "memory usage: 6.0+ KB\n"
     ]
    }
   ],
   "source": [
    "df.info()"
   ]
  },
  {
   "cell_type": "code",
   "execution_count": 146,
   "id": "2acd9c35-a710-4d64-98cf-9257ef6b0062",
   "metadata": {},
   "outputs": [
    {
     "data": {
      "text/plain": [
       "array(['Iris-setosa', 'Iris-versicolor', 'Iris-virginica'], dtype=object)"
      ]
     },
     "execution_count": 146,
     "metadata": {},
     "output_type": "execute_result"
    }
   ],
   "source": [
    "np.unique(df['species'])\n"
   ]
  },
  {
   "cell_type": "code",
   "execution_count": 147,
   "id": "5595cdf4-1a77-46f5-9112-c527c2ba64af",
   "metadata": {},
   "outputs": [
    {
     "data": {
      "text/html": [
       "<div>\n",
       "<style scoped>\n",
       "    .dataframe tbody tr th:only-of-type {\n",
       "        vertical-align: middle;\n",
       "    }\n",
       "\n",
       "    .dataframe tbody tr th {\n",
       "        vertical-align: top;\n",
       "    }\n",
       "\n",
       "    .dataframe thead th {\n",
       "        text-align: right;\n",
       "    }\n",
       "</style>\n",
       "<table border=\"1\" class=\"dataframe\">\n",
       "  <thead>\n",
       "    <tr style=\"text-align: right;\">\n",
       "      <th></th>\n",
       "      <th>sepal_length</th>\n",
       "      <th>sepal_width</th>\n",
       "      <th>petal_length</th>\n",
       "      <th>petal_width</th>\n",
       "      <th>species</th>\n",
       "    </tr>\n",
       "  </thead>\n",
       "  <tbody>\n",
       "    <tr>\n",
       "      <th>0</th>\n",
       "      <td>5.1</td>\n",
       "      <td>3.5</td>\n",
       "      <td>1.4</td>\n",
       "      <td>0.2</td>\n",
       "      <td>0</td>\n",
       "    </tr>\n",
       "    <tr>\n",
       "      <th>1</th>\n",
       "      <td>4.9</td>\n",
       "      <td>3.0</td>\n",
       "      <td>1.4</td>\n",
       "      <td>0.2</td>\n",
       "      <td>0</td>\n",
       "    </tr>\n",
       "    <tr>\n",
       "      <th>2</th>\n",
       "      <td>4.7</td>\n",
       "      <td>3.2</td>\n",
       "      <td>1.3</td>\n",
       "      <td>0.2</td>\n",
       "      <td>0</td>\n",
       "    </tr>\n",
       "    <tr>\n",
       "      <th>3</th>\n",
       "      <td>4.6</td>\n",
       "      <td>3.1</td>\n",
       "      <td>1.5</td>\n",
       "      <td>0.2</td>\n",
       "      <td>0</td>\n",
       "    </tr>\n",
       "    <tr>\n",
       "      <th>4</th>\n",
       "      <td>5.0</td>\n",
       "      <td>3.6</td>\n",
       "      <td>1.4</td>\n",
       "      <td>0.2</td>\n",
       "      <td>0</td>\n",
       "    </tr>\n",
       "    <tr>\n",
       "      <th>...</th>\n",
       "      <td>...</td>\n",
       "      <td>...</td>\n",
       "      <td>...</td>\n",
       "      <td>...</td>\n",
       "      <td>...</td>\n",
       "    </tr>\n",
       "    <tr>\n",
       "      <th>145</th>\n",
       "      <td>6.7</td>\n",
       "      <td>3.0</td>\n",
       "      <td>5.2</td>\n",
       "      <td>2.3</td>\n",
       "      <td>2</td>\n",
       "    </tr>\n",
       "    <tr>\n",
       "      <th>146</th>\n",
       "      <td>6.3</td>\n",
       "      <td>2.5</td>\n",
       "      <td>5.0</td>\n",
       "      <td>1.9</td>\n",
       "      <td>2</td>\n",
       "    </tr>\n",
       "    <tr>\n",
       "      <th>147</th>\n",
       "      <td>6.5</td>\n",
       "      <td>3.0</td>\n",
       "      <td>5.2</td>\n",
       "      <td>2.0</td>\n",
       "      <td>2</td>\n",
       "    </tr>\n",
       "    <tr>\n",
       "      <th>148</th>\n",
       "      <td>6.2</td>\n",
       "      <td>3.4</td>\n",
       "      <td>5.4</td>\n",
       "      <td>2.3</td>\n",
       "      <td>2</td>\n",
       "    </tr>\n",
       "    <tr>\n",
       "      <th>149</th>\n",
       "      <td>5.9</td>\n",
       "      <td>3.0</td>\n",
       "      <td>5.1</td>\n",
       "      <td>1.8</td>\n",
       "      <td>2</td>\n",
       "    </tr>\n",
       "  </tbody>\n",
       "</table>\n",
       "<p>150 rows × 5 columns</p>\n",
       "</div>"
      ],
      "text/plain": [
       "     sepal_length  sepal_width  petal_length  petal_width  species\n",
       "0             5.1          3.5           1.4          0.2        0\n",
       "1             4.9          3.0           1.4          0.2        0\n",
       "2             4.7          3.2           1.3          0.2        0\n",
       "3             4.6          3.1           1.5          0.2        0\n",
       "4             5.0          3.6           1.4          0.2        0\n",
       "..            ...          ...           ...          ...      ...\n",
       "145           6.7          3.0           5.2          2.3        2\n",
       "146           6.3          2.5           5.0          1.9        2\n",
       "147           6.5          3.0           5.2          2.0        2\n",
       "148           6.2          3.4           5.4          2.3        2\n",
       "149           5.9          3.0           5.1          1.8        2\n",
       "\n",
       "[150 rows x 5 columns]"
      ]
     },
     "execution_count": 147,
     "metadata": {},
     "output_type": "execute_result"
    }
   ],
   "source": [
    "class_dict= {'Iris-setosa': 0, 'Iris-versicolor': 1, 'Iris-virginica': 2}\n",
    "df['species']= df['species'].map(class_dict)\n",
    "df"
   ]
  },
  {
   "cell_type": "code",
   "execution_count": 156,
   "id": "30e84ec2-4dd1-4565-a4e0-7fd2622b4d47",
   "metadata": {},
   "outputs": [
    {
     "data": {
      "text/html": [
       "<div>\n",
       "<style scoped>\n",
       "    .dataframe tbody tr th:only-of-type {\n",
       "        vertical-align: middle;\n",
       "    }\n",
       "\n",
       "    .dataframe tbody tr th {\n",
       "        vertical-align: top;\n",
       "    }\n",
       "\n",
       "    .dataframe thead th {\n",
       "        text-align: right;\n",
       "    }\n",
       "</style>\n",
       "<table border=\"1\" class=\"dataframe\">\n",
       "  <thead>\n",
       "    <tr style=\"text-align: right;\">\n",
       "      <th></th>\n",
       "      <th>sepal_length</th>\n",
       "      <th>sepal_width</th>\n",
       "      <th>petal_length</th>\n",
       "      <th>petal_width</th>\n",
       "    </tr>\n",
       "  </thead>\n",
       "  <tbody>\n",
       "    <tr>\n",
       "      <th>0</th>\n",
       "      <td>5.1</td>\n",
       "      <td>3.5</td>\n",
       "      <td>1.4</td>\n",
       "      <td>0.2</td>\n",
       "    </tr>\n",
       "    <tr>\n",
       "      <th>1</th>\n",
       "      <td>4.9</td>\n",
       "      <td>3.0</td>\n",
       "      <td>1.4</td>\n",
       "      <td>0.2</td>\n",
       "    </tr>\n",
       "    <tr>\n",
       "      <th>2</th>\n",
       "      <td>4.7</td>\n",
       "      <td>3.2</td>\n",
       "      <td>1.3</td>\n",
       "      <td>0.2</td>\n",
       "    </tr>\n",
       "    <tr>\n",
       "      <th>3</th>\n",
       "      <td>4.6</td>\n",
       "      <td>3.1</td>\n",
       "      <td>1.5</td>\n",
       "      <td>0.2</td>\n",
       "    </tr>\n",
       "    <tr>\n",
       "      <th>4</th>\n",
       "      <td>5.0</td>\n",
       "      <td>3.6</td>\n",
       "      <td>1.4</td>\n",
       "      <td>0.2</td>\n",
       "    </tr>\n",
       "  </tbody>\n",
       "</table>\n",
       "</div>"
      ],
      "text/plain": [
       "   sepal_length  sepal_width  petal_length  petal_width\n",
       "0           5.1          3.5           1.4          0.2\n",
       "1           4.9          3.0           1.4          0.2\n",
       "2           4.7          3.2           1.3          0.2\n",
       "3           4.6          3.1           1.5          0.2\n",
       "4           5.0          3.6           1.4          0.2"
      ]
     },
     "execution_count": 156,
     "metadata": {},
     "output_type": "execute_result"
    }
   ],
   "source": [
    "feature= df.iloc[:, : -1]\n",
    "prediction= df.iloc[:, -1]\n",
    "feature.head()\n"
   ]
  },
  {
   "cell_type": "code",
   "execution_count": 157,
   "id": "d6604d3d-b44a-47e5-adc1-15fef8bc9d14",
   "metadata": {},
   "outputs": [
    {
     "data": {
      "text/plain": [
       "0    0\n",
       "1    0\n",
       "2    0\n",
       "3    0\n",
       "4    0\n",
       "Name: species, dtype: int64"
      ]
     },
     "execution_count": 157,
     "metadata": {},
     "output_type": "execute_result"
    }
   ],
   "source": [
    "prediction.head()"
   ]
  },
  {
   "cell_type": "code",
   "execution_count": 158,
   "id": "68ffd73f-5f94-48e5-b3d1-97a06ab82e97",
   "metadata": {},
   "outputs": [
    {
     "data": {
      "text/html": [
       "<div>\n",
       "<style scoped>\n",
       "    .dataframe tbody tr th:only-of-type {\n",
       "        vertical-align: middle;\n",
       "    }\n",
       "\n",
       "    .dataframe tbody tr th {\n",
       "        vertical-align: top;\n",
       "    }\n",
       "\n",
       "    .dataframe thead th {\n",
       "        text-align: right;\n",
       "    }\n",
       "</style>\n",
       "<table border=\"1\" class=\"dataframe\">\n",
       "  <thead>\n",
       "    <tr style=\"text-align: right;\">\n",
       "      <th></th>\n",
       "      <th>sepal_length</th>\n",
       "      <th>sepal_width</th>\n",
       "      <th>petal_length</th>\n",
       "      <th>petal_width</th>\n",
       "    </tr>\n",
       "  </thead>\n",
       "  <tbody>\n",
       "    <tr>\n",
       "      <th>0</th>\n",
       "      <td>-0.900681</td>\n",
       "      <td>1.032057</td>\n",
       "      <td>-1.341272</td>\n",
       "      <td>-1.312977</td>\n",
       "    </tr>\n",
       "    <tr>\n",
       "      <th>1</th>\n",
       "      <td>-1.143017</td>\n",
       "      <td>-0.124958</td>\n",
       "      <td>-1.341272</td>\n",
       "      <td>-1.312977</td>\n",
       "    </tr>\n",
       "    <tr>\n",
       "      <th>2</th>\n",
       "      <td>-1.385353</td>\n",
       "      <td>0.337848</td>\n",
       "      <td>-1.398138</td>\n",
       "      <td>-1.312977</td>\n",
       "    </tr>\n",
       "    <tr>\n",
       "      <th>3</th>\n",
       "      <td>-1.506521</td>\n",
       "      <td>0.106445</td>\n",
       "      <td>-1.284407</td>\n",
       "      <td>-1.312977</td>\n",
       "    </tr>\n",
       "    <tr>\n",
       "      <th>4</th>\n",
       "      <td>-1.021849</td>\n",
       "      <td>1.263460</td>\n",
       "      <td>-1.341272</td>\n",
       "      <td>-1.312977</td>\n",
       "    </tr>\n",
       "  </tbody>\n",
       "</table>\n",
       "</div>"
      ],
      "text/plain": [
       "   sepal_length  sepal_width  petal_length  petal_width\n",
       "0     -0.900681     1.032057     -1.341272    -1.312977\n",
       "1     -1.143017    -0.124958     -1.341272    -1.312977\n",
       "2     -1.385353     0.337848     -1.398138    -1.312977\n",
       "3     -1.506521     0.106445     -1.284407    -1.312977\n",
       "4     -1.021849     1.263460     -1.341272    -1.312977"
      ]
     },
     "execution_count": 158,
     "metadata": {},
     "output_type": "execute_result"
    }
   ],
   "source": [
    "from sklearn.preprocessing import StandardScaler\n",
    "scaler= StandardScaler()\n",
    "feature_scaled= scaler.fit_transform(feature)\n",
    "feature_scaled= pd.DataFrame(feature_scaled, columns= feature.columns)\n",
    "feature_scaled.head()\n"
   ]
  },
  {
   "cell_type": "code",
   "execution_count": 159,
   "id": "d234caab-e75f-4723-8452-62192b40cfe2",
   "metadata": {},
   "outputs": [
    {
     "name": "stdout",
     "output_type": "stream",
     "text": [
      "0    0\n",
      "1    0\n",
      "2    0\n",
      "3    0\n",
      "4    0\n",
      "Name: species, dtype: int64\n",
      "Shape of feature_scaled: (150, 4)\n",
      "Shape of prediction: (150,)\n"
     ]
    }
   ],
   "source": [
    "print(prediction.head())\n",
    "print(\"Shape of feature_scaled:\", feature_scaled.shape)\n",
    "print(\"Shape of prediction:\", prediction.shape)\n"
   ]
  },
  {
   "cell_type": "code",
   "execution_count": 160,
   "id": "75b9166d-6feb-4400-bea6-beed52c1dd42",
   "metadata": {},
   "outputs": [],
   "source": [
    "from sklearn.model_selection import train_test_split\n",
    "X_train, X_test, y_train, y_test = train_test_split(feature_scaled, prediction, test_size=0.2, random_state=50, shuffle=True)\n"
   ]
  },
  {
   "cell_type": "code",
   "execution_count": 162,
   "id": "7bc13c04-3dcd-4af1-b3ff-babd05cf84f1",
   "metadata": {},
   "outputs": [
    {
     "data": {
      "text/html": [
       "<div>\n",
       "<style scoped>\n",
       "    .dataframe tbody tr th:only-of-type {\n",
       "        vertical-align: middle;\n",
       "    }\n",
       "\n",
       "    .dataframe tbody tr th {\n",
       "        vertical-align: top;\n",
       "    }\n",
       "\n",
       "    .dataframe thead th {\n",
       "        text-align: right;\n",
       "    }\n",
       "</style>\n",
       "<table border=\"1\" class=\"dataframe\">\n",
       "  <thead>\n",
       "    <tr style=\"text-align: right;\">\n",
       "      <th></th>\n",
       "      <th>sepal_length</th>\n",
       "      <th>sepal_width</th>\n",
       "      <th>petal_length</th>\n",
       "      <th>petal_width</th>\n",
       "      <th>species</th>\n",
       "    </tr>\n",
       "  </thead>\n",
       "  <tbody>\n",
       "    <tr>\n",
       "      <th>125</th>\n",
       "      <td>1.643844</td>\n",
       "      <td>0.337848</td>\n",
       "      <td>1.274550</td>\n",
       "      <td>0.790591</td>\n",
       "      <td>2</td>\n",
       "    </tr>\n",
       "    <tr>\n",
       "      <th>98</th>\n",
       "      <td>-0.900681</td>\n",
       "      <td>-1.281972</td>\n",
       "      <td>-0.431421</td>\n",
       "      <td>-0.129720</td>\n",
       "      <td>1</td>\n",
       "    </tr>\n",
       "    <tr>\n",
       "      <th>73</th>\n",
       "      <td>0.310998</td>\n",
       "      <td>-0.587764</td>\n",
       "      <td>0.535296</td>\n",
       "      <td>0.001753</td>\n",
       "      <td>1</td>\n",
       "    </tr>\n",
       "    <tr>\n",
       "      <th>144</th>\n",
       "      <td>1.038005</td>\n",
       "      <td>0.569251</td>\n",
       "      <td>1.103953</td>\n",
       "      <td>1.710902</td>\n",
       "      <td>2</td>\n",
       "    </tr>\n",
       "    <tr>\n",
       "      <th>21</th>\n",
       "      <td>-0.900681</td>\n",
       "      <td>1.494863</td>\n",
       "      <td>-1.284407</td>\n",
       "      <td>-1.050031</td>\n",
       "      <td>0</td>\n",
       "    </tr>\n",
       "    <tr>\n",
       "      <th>...</th>\n",
       "      <td>...</td>\n",
       "      <td>...</td>\n",
       "      <td>...</td>\n",
       "      <td>...</td>\n",
       "      <td>...</td>\n",
       "    </tr>\n",
       "    <tr>\n",
       "      <th>70</th>\n",
       "      <td>0.068662</td>\n",
       "      <td>0.337848</td>\n",
       "      <td>0.592162</td>\n",
       "      <td>0.790591</td>\n",
       "      <td>1</td>\n",
       "    </tr>\n",
       "    <tr>\n",
       "      <th>132</th>\n",
       "      <td>0.674501</td>\n",
       "      <td>-0.587764</td>\n",
       "      <td>1.047087</td>\n",
       "      <td>1.316483</td>\n",
       "      <td>2</td>\n",
       "    </tr>\n",
       "    <tr>\n",
       "      <th>33</th>\n",
       "      <td>-0.416010</td>\n",
       "      <td>2.651878</td>\n",
       "      <td>-1.341272</td>\n",
       "      <td>-1.312977</td>\n",
       "      <td>0</td>\n",
       "    </tr>\n",
       "    <tr>\n",
       "      <th>109</th>\n",
       "      <td>1.643844</td>\n",
       "      <td>1.263460</td>\n",
       "      <td>1.331416</td>\n",
       "      <td>1.710902</td>\n",
       "      <td>2</td>\n",
       "    </tr>\n",
       "    <tr>\n",
       "      <th>139</th>\n",
       "      <td>1.280340</td>\n",
       "      <td>0.106445</td>\n",
       "      <td>0.933356</td>\n",
       "      <td>1.185010</td>\n",
       "      <td>2</td>\n",
       "    </tr>\n",
       "  </tbody>\n",
       "</table>\n",
       "<p>120 rows × 5 columns</p>\n",
       "</div>"
      ],
      "text/plain": [
       "     sepal_length  sepal_width  petal_length  petal_width  species\n",
       "125      1.643844     0.337848      1.274550     0.790591        2\n",
       "98      -0.900681    -1.281972     -0.431421    -0.129720        1\n",
       "73       0.310998    -0.587764      0.535296     0.001753        1\n",
       "144      1.038005     0.569251      1.103953     1.710902        2\n",
       "21      -0.900681     1.494863     -1.284407    -1.050031        0\n",
       "..            ...          ...           ...          ...      ...\n",
       "70       0.068662     0.337848      0.592162     0.790591        1\n",
       "132      0.674501    -0.587764      1.047087     1.316483        2\n",
       "33      -0.416010     2.651878     -1.341272    -1.312977        0\n",
       "109      1.643844     1.263460      1.331416     1.710902        2\n",
       "139      1.280340     0.106445      0.933356     1.185010        2\n",
       "\n",
       "[120 rows x 5 columns]"
      ]
     },
     "execution_count": 162,
     "metadata": {},
     "output_type": "execute_result"
    }
   ],
   "source": [
    "Train_data= pd.concat([X_train,y_train], axis= 'columns', names=[features.columns, 'species'])\n",
    "Train_data"
   ]
  },
  {
   "cell_type": "code",
   "execution_count": 163,
   "id": "3b2bbdb7-4a28-476c-809a-792855b0fe22",
   "metadata": {},
   "outputs": [
    {
     "data": {
      "text/html": [
       "<div>\n",
       "<style scoped>\n",
       "    .dataframe tbody tr th:only-of-type {\n",
       "        vertical-align: middle;\n",
       "    }\n",
       "\n",
       "    .dataframe tbody tr th {\n",
       "        vertical-align: top;\n",
       "    }\n",
       "\n",
       "    .dataframe thead th {\n",
       "        text-align: right;\n",
       "    }\n",
       "</style>\n",
       "<table border=\"1\" class=\"dataframe\">\n",
       "  <thead>\n",
       "    <tr style=\"text-align: right;\">\n",
       "      <th></th>\n",
       "      <th>sepal_length</th>\n",
       "      <th>sepal_width</th>\n",
       "      <th>petal_length</th>\n",
       "      <th>petal_width</th>\n",
       "      <th>species</th>\n",
       "    </tr>\n",
       "  </thead>\n",
       "  <tbody>\n",
       "    <tr>\n",
       "      <th>count</th>\n",
       "      <td>120.000000</td>\n",
       "      <td>120.000000</td>\n",
       "      <td>120.000000</td>\n",
       "      <td>120.000000</td>\n",
       "      <td>120.000000</td>\n",
       "    </tr>\n",
       "    <tr>\n",
       "      <th>mean</th>\n",
       "      <td>-0.063613</td>\n",
       "      <td>0.008099</td>\n",
       "      <td>-0.028149</td>\n",
       "      <td>-0.023446</td>\n",
       "      <td>1.000000</td>\n",
       "    </tr>\n",
       "    <tr>\n",
       "      <th>std</th>\n",
       "      <td>1.000533</td>\n",
       "      <td>0.999773</td>\n",
       "      <td>1.000192</td>\n",
       "      <td>0.997969</td>\n",
       "      <td>0.830106</td>\n",
       "    </tr>\n",
       "    <tr>\n",
       "      <th>min</th>\n",
       "      <td>-1.870024</td>\n",
       "      <td>-2.438987</td>\n",
       "      <td>-1.568735</td>\n",
       "      <td>-1.444450</td>\n",
       "      <td>0.000000</td>\n",
       "    </tr>\n",
       "    <tr>\n",
       "      <th>25%</th>\n",
       "      <td>-0.900681</td>\n",
       "      <td>-0.587764</td>\n",
       "      <td>-1.284407</td>\n",
       "      <td>-1.181504</td>\n",
       "      <td>0.000000</td>\n",
       "    </tr>\n",
       "    <tr>\n",
       "      <th>50%</th>\n",
       "      <td>-0.113090</td>\n",
       "      <td>-0.124958</td>\n",
       "      <td>0.279400</td>\n",
       "      <td>0.133226</td>\n",
       "      <td>1.000000</td>\n",
       "    </tr>\n",
       "    <tr>\n",
       "      <th>75%</th>\n",
       "      <td>0.674501</td>\n",
       "      <td>0.627102</td>\n",
       "      <td>0.762759</td>\n",
       "      <td>0.790591</td>\n",
       "      <td>2.000000</td>\n",
       "    </tr>\n",
       "    <tr>\n",
       "      <th>max</th>\n",
       "      <td>2.249683</td>\n",
       "      <td>3.114684</td>\n",
       "      <td>1.672610</td>\n",
       "      <td>1.710902</td>\n",
       "      <td>2.000000</td>\n",
       "    </tr>\n",
       "  </tbody>\n",
       "</table>\n",
       "</div>"
      ],
      "text/plain": [
       "       sepal_length  sepal_width  petal_length  petal_width     species\n",
       "count    120.000000   120.000000    120.000000   120.000000  120.000000\n",
       "mean      -0.063613     0.008099     -0.028149    -0.023446    1.000000\n",
       "std        1.000533     0.999773      1.000192     0.997969    0.830106\n",
       "min       -1.870024    -2.438987     -1.568735    -1.444450    0.000000\n",
       "25%       -0.900681    -0.587764     -1.284407    -1.181504    0.000000\n",
       "50%       -0.113090    -0.124958      0.279400     0.133226    1.000000\n",
       "75%        0.674501     0.627102      0.762759     0.790591    2.000000\n",
       "max        2.249683     3.114684      1.672610     1.710902    2.000000"
      ]
     },
     "execution_count": 163,
     "metadata": {},
     "output_type": "execute_result"
    }
   ],
   "source": [
    "Train_data.describe()"
   ]
  },
  {
   "cell_type": "code",
   "execution_count": 164,
   "id": "548b0c90-0c08-4235-88f1-bdd2bcdc6978",
   "metadata": {},
   "outputs": [
    {
     "data": {
      "image/png": "[encoded data removed]",
      "text/plain": [
       "<Figure size 640x480 with 1 Axes>"
      ]
     },
     "metadata": {},
     "output_type": "display_data"
    }
   ],
   "source": [
    "import seaborn as sns\n",
    "sns.boxplot(data=X_train,orient=\"h\").set(xlabel=\"range\", ylabel=\"features\")\n",
    "plt.show()"
   ]
  },
  {
   "cell_type": "code",
   "execution_count": 172,
   "id": "ec6e87d5-dbeb-4e7f-9dc5-50d3d53c522b",
   "metadata": {},
   "outputs": [],
   "source": [
    "def get_outliers_IQR(X):\n",
    "    q1= np.quantile(X, 0.25)\n",
    "    q3= np.quantile(X, 0.75)\n",
    "    median= np.median(X)\n",
    "    iqr= q3-q1\n",
    "    upper_bound= q3+(1.5*iqr)\n",
    "    lower_bound= q1-(1.5*iqr)\n",
    "    outliers= X[(X<=lower_bound) | (X>=upper_bound)]\n",
    "    outliers_indices= np.where((X<= lower_bound) | (X>=upper_bound))\n",
    "    return outliers, outliers_indices[0].tolist()"
   ]
  },
  {
   "cell_type": "code",
   "execution_count": 174,
   "id": "89cbe10d-4026-42d6-a7cd-4da16c451f8e",
   "metadata": {},
   "outputs": [
    {
     "name": "stdout",
     "output_type": "stream",
     "text": [
      "outliers:  [ 3.11468391 -2.43898725  2.65187798]\n",
      "outliers indices :  [22, 89, 117]\n"
     ]
    }
   ],
   "source": [
    "Train_copy= Train_data.copy()\n",
    "Train_copy.reset_index(drop= True, inplace= True)\n",
    "outliers,outliers_indices= get_outliers_IQR(Train_copy['sepal_width'].to_numpy())\n",
    "print(\"outliers: \", outliers)\n",
    "print(\"outliers indices : \" , outliers_indices)"
   ]
  },
  {
   "cell_type": "code",
   "execution_count": 175,
   "id": "f8bcabc6-6083-452a-8f52-bf60b88e637b",
   "metadata": {},
   "outputs": [
    {
     "data": {
      "text/html": [
       "<div>\n",
       "<style scoped>\n",
       "    .dataframe tbody tr th:only-of-type {\n",
       "        vertical-align: middle;\n",
       "    }\n",
       "\n",
       "    .dataframe tbody tr th {\n",
       "        vertical-align: top;\n",
       "    }\n",
       "\n",
       "    .dataframe thead th {\n",
       "        text-align: right;\n",
       "    }\n",
       "</style>\n",
       "<table border=\"1\" class=\"dataframe\">\n",
       "  <thead>\n",
       "    <tr style=\"text-align: right;\">\n",
       "      <th></th>\n",
       "      <th>sepal_length</th>\n",
       "      <th>sepal_width</th>\n",
       "      <th>petal_length</th>\n",
       "      <th>petal_width</th>\n",
       "      <th>species</th>\n",
       "    </tr>\n",
       "  </thead>\n",
       "  <tbody>\n",
       "    <tr>\n",
       "      <th>0</th>\n",
       "      <td>1.643844</td>\n",
       "      <td>0.337848</td>\n",
       "      <td>1.274550</td>\n",
       "      <td>0.790591</td>\n",
       "      <td>2</td>\n",
       "    </tr>\n",
       "    <tr>\n",
       "      <th>1</th>\n",
       "      <td>-0.900681</td>\n",
       "      <td>-1.281972</td>\n",
       "      <td>-0.431421</td>\n",
       "      <td>-0.129720</td>\n",
       "      <td>1</td>\n",
       "    </tr>\n",
       "    <tr>\n",
       "      <th>2</th>\n",
       "      <td>0.310998</td>\n",
       "      <td>-0.587764</td>\n",
       "      <td>0.535296</td>\n",
       "      <td>0.001753</td>\n",
       "      <td>1</td>\n",
       "    </tr>\n",
       "    <tr>\n",
       "      <th>3</th>\n",
       "      <td>1.038005</td>\n",
       "      <td>0.569251</td>\n",
       "      <td>1.103953</td>\n",
       "      <td>1.710902</td>\n",
       "      <td>2</td>\n",
       "    </tr>\n",
       "    <tr>\n",
       "      <th>4</th>\n",
       "      <td>-0.900681</td>\n",
       "      <td>1.494863</td>\n",
       "      <td>-1.284407</td>\n",
       "      <td>-1.050031</td>\n",
       "      <td>0</td>\n",
       "    </tr>\n",
       "    <tr>\n",
       "      <th>...</th>\n",
       "      <td>...</td>\n",
       "      <td>...</td>\n",
       "      <td>...</td>\n",
       "      <td>...</td>\n",
       "      <td>...</td>\n",
       "    </tr>\n",
       "    <tr>\n",
       "      <th>112</th>\n",
       "      <td>1.038005</td>\n",
       "      <td>-0.124958</td>\n",
       "      <td>0.819624</td>\n",
       "      <td>1.447956</td>\n",
       "      <td>2</td>\n",
       "    </tr>\n",
       "    <tr>\n",
       "      <th>113</th>\n",
       "      <td>0.068662</td>\n",
       "      <td>0.337848</td>\n",
       "      <td>0.592162</td>\n",
       "      <td>0.790591</td>\n",
       "      <td>1</td>\n",
       "    </tr>\n",
       "    <tr>\n",
       "      <th>114</th>\n",
       "      <td>0.674501</td>\n",
       "      <td>-0.587764</td>\n",
       "      <td>1.047087</td>\n",
       "      <td>1.316483</td>\n",
       "      <td>2</td>\n",
       "    </tr>\n",
       "    <tr>\n",
       "      <th>115</th>\n",
       "      <td>1.643844</td>\n",
       "      <td>1.263460</td>\n",
       "      <td>1.331416</td>\n",
       "      <td>1.710902</td>\n",
       "      <td>2</td>\n",
       "    </tr>\n",
       "    <tr>\n",
       "      <th>116</th>\n",
       "      <td>1.280340</td>\n",
       "      <td>0.106445</td>\n",
       "      <td>0.933356</td>\n",
       "      <td>1.185010</td>\n",
       "      <td>2</td>\n",
       "    </tr>\n",
       "  </tbody>\n",
       "</table>\n",
       "<p>117 rows × 5 columns</p>\n",
       "</div>"
      ],
      "text/plain": [
       "     sepal_length  sepal_width  petal_length  petal_width  species\n",
       "0        1.643844     0.337848      1.274550     0.790591        2\n",
       "1       -0.900681    -1.281972     -0.431421    -0.129720        1\n",
       "2        0.310998    -0.587764      0.535296     0.001753        1\n",
       "3        1.038005     0.569251      1.103953     1.710902        2\n",
       "4       -0.900681     1.494863     -1.284407    -1.050031        0\n",
       "..            ...          ...           ...          ...      ...\n",
       "112      1.038005    -0.124958      0.819624     1.447956        2\n",
       "113      0.068662     0.337848      0.592162     0.790591        1\n",
       "114      0.674501    -0.587764      1.047087     1.316483        2\n",
       "115      1.643844     1.263460      1.331416     1.710902        2\n",
       "116      1.280340     0.106445      0.933356     1.185010        2\n",
       "\n",
       "[117 rows x 5 columns]"
      ]
     },
     "execution_count": 175,
     "metadata": {},
     "output_type": "execute_result"
    }
   ],
   "source": [
    "Train_copy.drop(outliers_indices, inplace= True)\n",
    "Train_copy.reset_index(drop= True, inplace= True)\n",
    "Train_copy"
   ]
  },
  {
   "cell_type": "code",
   "execution_count": 176,
   "id": "c4225108-1621-42b0-9d89-1d2a9a405dec",
   "metadata": {},
   "outputs": [
    {
     "data": {
      "text/plain": [
       "(120, 5)"
      ]
     },
     "execution_count": 176,
     "metadata": {},
     "output_type": "execute_result"
    }
   ],
   "source": [
    "Train_data.shape"
   ]
  },
  {
   "cell_type": "code",
   "execution_count": 177,
   "id": "53597306-a607-4094-9045-28bf4ec5310a",
   "metadata": {},
   "outputs": [
    {
     "data": {
      "text/plain": [
       "(117, 5)"
      ]
     },
     "execution_count": 177,
     "metadata": {},
     "output_type": "execute_result"
    }
   ],
   "source": [
    "Train_copy.shape"
   ]
  },
  {
   "cell_type": "code",
   "execution_count": 178,
   "id": "75e85c0e-9e74-4911-80bf-273f39c7133a",
   "metadata": {},
   "outputs": [],
   "source": [
    "X_train= Train_copy.iloc[:, : -1]\n",
    "y_train= Train_copy.iloc[: -1]"
   ]
  },
  {
   "cell_type": "code",
   "execution_count": 179,
   "id": "b07ba652-d6aa-4b00-99cd-0f0e51e30e33",
   "metadata": {},
   "outputs": [
    {
     "data": {
      "text/html": [
       "<div>\n",
       "<style scoped>\n",
       "    .dataframe tbody tr th:only-of-type {\n",
       "        vertical-align: middle;\n",
       "    }\n",
       "\n",
       "    .dataframe tbody tr th {\n",
       "        vertical-align: top;\n",
       "    }\n",
       "\n",
       "    .dataframe thead th {\n",
       "        text-align: right;\n",
       "    }\n",
       "</style>\n",
       "<table border=\"1\" class=\"dataframe\">\n",
       "  <thead>\n",
       "    <tr style=\"text-align: right;\">\n",
       "      <th></th>\n",
       "      <th>sepal_length</th>\n",
       "      <th>sepal_width</th>\n",
       "      <th>petal_length</th>\n",
       "      <th>petal_width</th>\n",
       "      <th>species</th>\n",
       "    </tr>\n",
       "  </thead>\n",
       "  <tbody>\n",
       "    <tr>\n",
       "      <th>0</th>\n",
       "      <td>1.643844</td>\n",
       "      <td>0.337848</td>\n",
       "      <td>1.274550</td>\n",
       "      <td>0.790591</td>\n",
       "      <td>2</td>\n",
       "    </tr>\n",
       "    <tr>\n",
       "      <th>1</th>\n",
       "      <td>-0.900681</td>\n",
       "      <td>-1.281972</td>\n",
       "      <td>-0.431421</td>\n",
       "      <td>-0.129720</td>\n",
       "      <td>1</td>\n",
       "    </tr>\n",
       "    <tr>\n",
       "      <th>2</th>\n",
       "      <td>0.310998</td>\n",
       "      <td>-0.587764</td>\n",
       "      <td>0.535296</td>\n",
       "      <td>0.001753</td>\n",
       "      <td>1</td>\n",
       "    </tr>\n",
       "    <tr>\n",
       "      <th>3</th>\n",
       "      <td>1.038005</td>\n",
       "      <td>0.569251</td>\n",
       "      <td>1.103953</td>\n",
       "      <td>1.710902</td>\n",
       "      <td>2</td>\n",
       "    </tr>\n",
       "    <tr>\n",
       "      <th>4</th>\n",
       "      <td>-0.900681</td>\n",
       "      <td>1.494863</td>\n",
       "      <td>-1.284407</td>\n",
       "      <td>-1.050031</td>\n",
       "      <td>0</td>\n",
       "    </tr>\n",
       "    <tr>\n",
       "      <th>...</th>\n",
       "      <td>...</td>\n",
       "      <td>...</td>\n",
       "      <td>...</td>\n",
       "      <td>...</td>\n",
       "      <td>...</td>\n",
       "    </tr>\n",
       "    <tr>\n",
       "      <th>111</th>\n",
       "      <td>-1.506521</td>\n",
       "      <td>1.263460</td>\n",
       "      <td>-1.568735</td>\n",
       "      <td>-1.312977</td>\n",
       "      <td>0</td>\n",
       "    </tr>\n",
       "    <tr>\n",
       "      <th>112</th>\n",
       "      <td>1.038005</td>\n",
       "      <td>-0.124958</td>\n",
       "      <td>0.819624</td>\n",
       "      <td>1.447956</td>\n",
       "      <td>2</td>\n",
       "    </tr>\n",
       "    <tr>\n",
       "      <th>113</th>\n",
       "      <td>0.068662</td>\n",
       "      <td>0.337848</td>\n",
       "      <td>0.592162</td>\n",
       "      <td>0.790591</td>\n",
       "      <td>1</td>\n",
       "    </tr>\n",
       "    <tr>\n",
       "      <th>114</th>\n",
       "      <td>0.674501</td>\n",
       "      <td>-0.587764</td>\n",
       "      <td>1.047087</td>\n",
       "      <td>1.316483</td>\n",
       "      <td>2</td>\n",
       "    </tr>\n",
       "    <tr>\n",
       "      <th>115</th>\n",
       "      <td>1.643844</td>\n",
       "      <td>1.263460</td>\n",
       "      <td>1.331416</td>\n",
       "      <td>1.710902</td>\n",
       "      <td>2</td>\n",
       "    </tr>\n",
       "  </tbody>\n",
       "</table>\n",
       "<p>116 rows × 5 columns</p>\n",
       "</div>"
      ],
      "text/plain": [
       "     sepal_length  sepal_width  petal_length  petal_width  species\n",
       "0        1.643844     0.337848      1.274550     0.790591        2\n",
       "1       -0.900681    -1.281972     -0.431421    -0.129720        1\n",
       "2        0.310998    -0.587764      0.535296     0.001753        1\n",
       "3        1.038005     0.569251      1.103953     1.710902        2\n",
       "4       -0.900681     1.494863     -1.284407    -1.050031        0\n",
       "..            ...          ...           ...          ...      ...\n",
       "111     -1.506521     1.263460     -1.568735    -1.312977        0\n",
       "112      1.038005    -0.124958      0.819624     1.447956        2\n",
       "113      0.068662     0.337848      0.592162     0.790591        1\n",
       "114      0.674501    -0.587764      1.047087     1.316483        2\n",
       "115      1.643844     1.263460      1.331416     1.710902        2\n",
       "\n",
       "[116 rows x 5 columns]"
      ]
     },
     "execution_count": 179,
     "metadata": {},
     "output_type": "execute_result"
    }
   ],
   "source": [
    "y_train"
   ]
  },
  {
   "cell_type": "code",
   "execution_count": 180,
   "id": "b191031d-9472-457a-b81c-60144cbb168a",
   "metadata": {},
   "outputs": [
    {
     "data": {
      "image/png": "[encoded data removed]",
      "text/plain": [
       "<Figure size 640x480 with 1 Axes>"
      ]
     },
     "metadata": {},
     "output_type": "display_data"
    }
   ],
   "source": [
    "sns.boxplot(data= X_train, orient=\"h\").set(xlabel=\"range\", ylabel=\"features\")\n",
    "plt.show()"
   ]
  },
  {
   "cell_type": "code",
   "execution_count": 182,
   "id": "6c44122b-8f64-48a2-896f-1b8b9215e138",
   "metadata": {},
   "outputs": [
    {
     "name": "stdout",
     "output_type": "stream",
     "text": [
      "outliers:  [2.42047502]\n",
      "Outliers indices :  [46]\n"
     ]
    }
   ],
   "source": [
    "outliers, outliers_indices=get_outliers_IQR(Train_copy['sepal_width'].to_numpy())\n",
    "print(\"outliers: \", outliers)\n",
    "print(\"Outliers indices : \", outliers_indices)\n"
   ]
  },
  {
   "cell_type": "code",
   "execution_count": null,
   "id": "6e713548-46d6-4550-bdf5-921c22e39b7b",
   "metadata": {},
   "outputs": [],
   "source": []
  },
  {
   "cell_type": "code",
   "execution_count": 187,
   "id": "e688d150-c878-4f38-ae4e-ea89c228cfc6",
   "metadata": {},
   "outputs": [
    {
     "data": {
      "text/html": [
       "<div>\n",
       "<style scoped>\n",
       "    .dataframe tbody tr th:only-of-type {\n",
       "        vertical-align: middle;\n",
       "    }\n",
       "\n",
       "    .dataframe tbody tr th {\n",
       "        vertical-align: top;\n",
       "    }\n",
       "\n",
       "    .dataframe thead th {\n",
       "        text-align: right;\n",
       "    }\n",
       "</style>\n",
       "<table border=\"1\" class=\"dataframe\">\n",
       "  <thead>\n",
       "    <tr style=\"text-align: right;\">\n",
       "      <th></th>\n",
       "      <th>sepal_length</th>\n",
       "      <th>sepal_width</th>\n",
       "      <th>petal_length</th>\n",
       "      <th>petal_width</th>\n",
       "      <th>species</th>\n",
       "    </tr>\n",
       "  </thead>\n",
       "  <tbody>\n",
       "    <tr>\n",
       "      <th>0</th>\n",
       "      <td>1.643844</td>\n",
       "      <td>0.337848</td>\n",
       "      <td>1.274550</td>\n",
       "      <td>0.790591</td>\n",
       "      <td>2</td>\n",
       "    </tr>\n",
       "    <tr>\n",
       "      <th>1</th>\n",
       "      <td>-0.900681</td>\n",
       "      <td>-1.281972</td>\n",
       "      <td>-0.431421</td>\n",
       "      <td>-0.129720</td>\n",
       "      <td>1</td>\n",
       "    </tr>\n",
       "    <tr>\n",
       "      <th>2</th>\n",
       "      <td>0.310998</td>\n",
       "      <td>-0.587764</td>\n",
       "      <td>0.535296</td>\n",
       "      <td>0.001753</td>\n",
       "      <td>1</td>\n",
       "    </tr>\n",
       "    <tr>\n",
       "      <th>3</th>\n",
       "      <td>1.038005</td>\n",
       "      <td>0.569251</td>\n",
       "      <td>1.103953</td>\n",
       "      <td>1.710902</td>\n",
       "      <td>2</td>\n",
       "    </tr>\n",
       "    <tr>\n",
       "      <th>4</th>\n",
       "      <td>-0.900681</td>\n",
       "      <td>1.494863</td>\n",
       "      <td>-1.284407</td>\n",
       "      <td>-1.050031</td>\n",
       "      <td>0</td>\n",
       "    </tr>\n",
       "    <tr>\n",
       "      <th>...</th>\n",
       "      <td>...</td>\n",
       "      <td>...</td>\n",
       "      <td>...</td>\n",
       "      <td>...</td>\n",
       "      <td>...</td>\n",
       "    </tr>\n",
       "    <tr>\n",
       "      <th>111</th>\n",
       "      <td>1.038005</td>\n",
       "      <td>-0.124958</td>\n",
       "      <td>0.819624</td>\n",
       "      <td>1.447956</td>\n",
       "      <td>2</td>\n",
       "    </tr>\n",
       "    <tr>\n",
       "      <th>112</th>\n",
       "      <td>0.068662</td>\n",
       "      <td>0.337848</td>\n",
       "      <td>0.592162</td>\n",
       "      <td>0.790591</td>\n",
       "      <td>1</td>\n",
       "    </tr>\n",
       "    <tr>\n",
       "      <th>113</th>\n",
       "      <td>0.674501</td>\n",
       "      <td>-0.587764</td>\n",
       "      <td>1.047087</td>\n",
       "      <td>1.316483</td>\n",
       "      <td>2</td>\n",
       "    </tr>\n",
       "    <tr>\n",
       "      <th>114</th>\n",
       "      <td>1.643844</td>\n",
       "      <td>1.263460</td>\n",
       "      <td>1.331416</td>\n",
       "      <td>1.710902</td>\n",
       "      <td>2</td>\n",
       "    </tr>\n",
       "    <tr>\n",
       "      <th>115</th>\n",
       "      <td>1.280340</td>\n",
       "      <td>0.106445</td>\n",
       "      <td>0.933356</td>\n",
       "      <td>1.185010</td>\n",
       "      <td>2</td>\n",
       "    </tr>\n",
       "  </tbody>\n",
       "</table>\n",
       "<p>116 rows × 5 columns</p>\n",
       "</div>"
      ],
      "text/plain": [
       "     sepal_length  sepal_width  petal_length  petal_width  species\n",
       "0        1.643844     0.337848      1.274550     0.790591        2\n",
       "1       -0.900681    -1.281972     -0.431421    -0.129720        1\n",
       "2        0.310998    -0.587764      0.535296     0.001753        1\n",
       "3        1.038005     0.569251      1.103953     1.710902        2\n",
       "4       -0.900681     1.494863     -1.284407    -1.050031        0\n",
       "..            ...          ...           ...          ...      ...\n",
       "111      1.038005    -0.124958      0.819624     1.447956        2\n",
       "112      0.068662     0.337848      0.592162     0.790591        1\n",
       "113      0.674501    -0.587764      1.047087     1.316483        2\n",
       "114      1.643844     1.263460      1.331416     1.710902        2\n",
       "115      1.280340     0.106445      0.933356     1.185010        2\n",
       "\n",
       "[116 rows x 5 columns]"
      ]
     },
     "execution_count": 187,
     "metadata": {},
     "output_type": "execute_result"
    }
   ],
   "source": [
    "Train_copy.drop(outliers_indices, inplace=True, errors='ignore')\n",
    "Train_copy.reset_index(drop=True, inplace=True)\n",
    "\n",
    "Train_copy"
   ]
  },
  {
   "cell_type": "code",
   "execution_count": 188,
   "id": "71b5c588-3bda-460c-9c4d-46b7c4d6b9ca",
   "metadata": {},
   "outputs": [],
   "source": [
    "X_train= Train_copy.iloc[:, : -1]\n",
    "y_train= Train_copy.iloc[:, -1]\n"
   ]
  },
  {
   "cell_type": "code",
   "execution_count": 189,
   "id": "8e4f5da0-7ad4-4ce2-bbd1-5c982398b5a1",
   "metadata": {},
   "outputs": [
    {
     "data": {
      "image/png": "[encoded data removed]",
      "text/plain": [
       "<Figure size 640x480 with 1 Axes>"
      ]
     },
     "metadata": {},
     "output_type": "display_data"
    }
   ],
   "source": [
    "sns.boxplot(data= X_train, orient= \"h\").set(xlabel= \"range\", ylabel=\"features\")\n",
    "plt.show()"
   ]
  },
  {
   "cell_type": "code",
   "execution_count": 191,
   "id": "c31226ef-5c13-4b90-94d8-c0beaa1b65b3",
   "metadata": {},
   "outputs": [
    {
     "data": {
      "text/plain": [
       "array([38, 37, 41], dtype=int64)"
      ]
     },
     "execution_count": 191,
     "metadata": {},
     "output_type": "execute_result"
    }
   ],
   "source": [
    "classes, count= np.unique(y_train, return_counts= True)\n",
    "count"
   ]
  },
  {
   "cell_type": "code",
   "execution_count": 193,
   "id": "080d5ea9-60ba-4d51-8cc8-1a769316a2a2",
   "metadata": {},
   "outputs": [
    {
     "data": {
      "image/png": "[encoded data removed]",
      "text/plain": [
       "<Figure size 640x480 with 1 Axes>"
      ]
     },
     "metadata": {},
     "output_type": "display_data"
    }
   ],
   "source": [
    "plt.bar(['setosa', 'versicolor', 'virginica'], count)\n",
    "plt.title(\"Flowers\")\n",
    "plt.xlabel(\"Type of flower\")\n",
    "plt.ylabel(\"Number of Instances\")\n",
    "plt.show()"
   ]
  },
  {
   "cell_type": "code",
   "execution_count": 194,
   "id": "7d8ae01a-5578-4374-b799-184ca4aecf52",
   "metadata": {},
   "outputs": [
    {
     "data": {
      "text/html": [
       "<div>\n",
       "<style scoped>\n",
       "    .dataframe tbody tr th:only-of-type {\n",
       "        vertical-align: middle;\n",
       "    }\n",
       "\n",
       "    .dataframe tbody tr th {\n",
       "        vertical-align: top;\n",
       "    }\n",
       "\n",
       "    .dataframe thead th {\n",
       "        text-align: right;\n",
       "    }\n",
       "</style>\n",
       "<table border=\"1\" class=\"dataframe\">\n",
       "  <thead>\n",
       "    <tr style=\"text-align: right;\">\n",
       "      <th></th>\n",
       "      <th>sepal_length</th>\n",
       "      <th>sepal_width</th>\n",
       "      <th>petal_length</th>\n",
       "      <th>petal_width</th>\n",
       "      <th>species</th>\n",
       "    </tr>\n",
       "  </thead>\n",
       "  <tbody>\n",
       "    <tr>\n",
       "      <th>sepal_length</th>\n",
       "      <td>1.000000</td>\n",
       "      <td>-0.127313</td>\n",
       "      <td>0.883475</td>\n",
       "      <td>0.825971</td>\n",
       "      <td>0.793662</td>\n",
       "    </tr>\n",
       "    <tr>\n",
       "      <th>sepal_width</th>\n",
       "      <td>-0.127313</td>\n",
       "      <td>1.000000</td>\n",
       "      <td>-0.398315</td>\n",
       "      <td>-0.330258</td>\n",
       "      <td>-0.414335</td>\n",
       "    </tr>\n",
       "    <tr>\n",
       "      <th>petal_length</th>\n",
       "      <td>0.883475</td>\n",
       "      <td>-0.398315</td>\n",
       "      <td>1.000000</td>\n",
       "      <td>0.959186</td>\n",
       "      <td>0.948916</td>\n",
       "    </tr>\n",
       "    <tr>\n",
       "      <th>petal_width</th>\n",
       "      <td>0.825971</td>\n",
       "      <td>-0.330258</td>\n",
       "      <td>0.959186</td>\n",
       "      <td>1.000000</td>\n",
       "      <td>0.955052</td>\n",
       "    </tr>\n",
       "    <tr>\n",
       "      <th>species</th>\n",
       "      <td>0.793662</td>\n",
       "      <td>-0.414335</td>\n",
       "      <td>0.948916</td>\n",
       "      <td>0.955052</td>\n",
       "      <td>1.000000</td>\n",
       "    </tr>\n",
       "  </tbody>\n",
       "</table>\n",
       "</div>"
      ],
      "text/plain": [
       "              sepal_length  sepal_width  petal_length  petal_width   species\n",
       "sepal_length      1.000000    -0.127313      0.883475     0.825971  0.793662\n",
       "sepal_width      -0.127313     1.000000     -0.398315    -0.330258 -0.414335\n",
       "petal_length      0.883475    -0.398315      1.000000     0.959186  0.948916\n",
       "petal_width       0.825971    -0.330258      0.959186     1.000000  0.955052\n",
       "species           0.793662    -0.414335      0.948916     0.955052  1.000000"
      ]
     },
     "execution_count": 194,
     "metadata": {},
     "output_type": "execute_result"
    }
   ],
   "source": [
    "corr_mat= Train_copy.corr(method= 'pearson')\n",
    "corr_mat"
   ]
  },
  {
   "cell_type": "code",
   "execution_count": 199,
   "id": "0d223f6a-9b2b-4c6c-be93-227faf21473c",
   "metadata": {},
   "outputs": [
    {
     "data": {
      "image/png": "[encoded data removed]",
      "text/plain": [
       "<Figure size 480x480 with 2 Axes>"
      ]
     },
     "metadata": {},
     "output_type": "display_data"
    }
   ],
   "source": [
    "plt.matshow(corr_mat)\n",
    "plt.xticks(range(len(corr_mat.columns)),corr_mat.columns, rotation= 90)\n",
    "plt.yticks(range(len(corr_mat.columns)),corr_mat.columns)\n",
    "# plt.fig(figsize= (6,6))\n",
    "plt.colorbar()\n",
    "plt.show()"
   ]
  },
  {
   "cell_type": "code",
   "execution_count": 200,
   "id": "5f6b9939-e3e4-4f19-bc87-e690c0f7f4cb",
   "metadata": {},
   "outputs": [
    {
     "data": {
      "image/png": "[encoded data removed]",
      "text/plain": [
       "<Figure size 640x480 with 1 Axes>"
      ]
     },
     "metadata": {},
     "output_type": "display_data"
    }
   ],
   "source": [
    "plt.scatter(y_train, X_train['sepal_length'])\n",
    "plt.title(\"sepal length vs species\")\n",
    "plt.xlabel(\"species\")\n",
    "plt.ylabel(\"sepal Length\")\n",
    "plt.show()"
   ]
  },
  {
   "cell_type": "code",
   "execution_count": 203,
   "id": "ab49bbe0-6ecd-4d3b-8a11-a18f1dd498e1",
   "metadata": {},
   "outputs": [
    {
     "data": {
      "image/png": "[encoded data removed]",
      "text/plain": [
       "<Figure size 640x480 with 1 Axes>"
      ]
     },
     "metadata": {},
     "output_type": "display_data"
    }
   ],
   "source": [
    "plt.scatter(y_train, X_train['sepal_width'])\n",
    "plt.title(\"sepal width vs species\")\n",
    "plt.xlabel(\"species\")\n",
    "plt.ylabel(\"sepal width\")\n",
    "plt.show()\n",
    "    "
   ]
  },
  {
   "cell_type": "code",
   "execution_count": 212,
   "id": "1c90c052-139f-4e4a-bff8-21822a9b9f09",
   "metadata": {},
   "outputs": [
    {
     "data": {
      "image/png": "[encoded data removed]",
      "text/plain": [
       "<Figure size 640x480 with 1 Axes>"
      ]
     },
     "metadata": {},
     "output_type": "display_data"
    }
   ],
   "source": [
    "plt.scatter(y_train, X_train['petal_width'])\n",
    "plt.title(\"sepal width vs species\")\n",
    "plt.xlabel(\"species\")\n",
    "plt.ylabel(\"petal width\")\n",
    "plt.show()"
   ]
  },
  {
   "cell_type": "code",
   "execution_count": 213,
   "id": "a80ff9a3-24f4-45e0-8e20-c226b1890856",
   "metadata": {},
   "outputs": [
    {
     "data": {
      "image/png": "[encoded data removed]",
      "text/plain": [
       "<Figure size 640x480 with 1 Axes>"
      ]
     },
     "metadata": {},
     "output_type": "display_data"
    }
   ],
   "source": [
    "plt.scatter(y_train, X_train['petal_length'])\n",
    "plt.title(\"sepal width vs species\")\n",
    "plt.xlabel(\"species\")\n",
    "plt.ylabel(\"petal length\")\n",
    "plt.show()"
   ]
  },
  {
   "cell_type": "code",
   "execution_count": 205,
   "id": "be76057d-343f-4f40-b3f4-32e28678894e",
   "metadata": {},
   "outputs": [],
   "source": [
    "from sklearn.linear_model import LogisticRegression\n",
    "model = LogisticRegression(random_state= 0)\n",
    "model.fit(X_train, y_train)\n",
    "y_pred_train= model.predict(X_train)\n",
    "y_pred=model.predict(X_test)"
   ]
  },
  {
   "cell_type": "code",
   "execution_count": 211,
   "id": "0c414724-a7a2-48fc-8c65-da4d1de1b9ad",
   "metadata": {
    "scrolled": true
   },
   "outputs": [
    {
     "name": "stdout",
     "output_type": "stream",
     "text": [
      "\n",
      "Train Data: \n",
      "accuracy train score:  0.974\n",
      "confusion matrix: \n",
      " [[38  0  0]\n",
      " [ 0 35  2]\n",
      " [ 0  1 40]]\n",
      "\n",
      "Test Data: \n",
      "accuracy test score:  0.933\n",
      "confusion matrix: \n",
      " [[ 9  0  0]\n",
      " [ 0 10  2]\n",
      " [ 0  0  9]]\n"
     ]
    }
   ],
   "source": [
    "from sklearn.metrics import accuracy_score, confusion_matrix\n",
    "accuracy_train= accuracy_score(y_train, y_pred_train)\n",
    "confusion_mat_train= confusion_matrix(y_train, y_pred_train)\n",
    "print(\"\\nTrain Data: \") \n",
    "print(\"accuracy train score: \", np.round(accuracy_train,decimals= 3))\n",
    "print(\"confusion matrix: \\n\", confusion_mat_train)\n",
    "\n",
    "\n",
    "accuracy_test= accuracy_score(y_test, y_pred)\n",
    "confusion_mat= confusion_matrix(y_test, y_pred)\n",
    "print(\"\\nTest Data: \") \n",
    "print(\"accuracy test score: \", np.round(accuracy_test,decimals= 3))\n",
    "print(\"confusion matrix: \\n\", confusion_mat)"
   ]
  },
  {
   "cell_type": "code",
   "execution_count": null,
   "id": "3350ad9f-92f8-406a-8e28-4f2c5bdf0eb3",
   "metadata": {},
   "outputs": [],
   "source": []
  }
 ],
 "metadata": {
  "kernelspec": {
   "display_name": "Python 3 (ipykernel)",
   "language": "python",
   "name": "python3"
  },
  "language_info": {
   "codemirror_mode": {
    "name": "ipython",
    "version": 3
   },
   "file_extension": ".py",
   "mimetype": "text/x-python",
   "name": "python",
   "nbconvert_exporter": "python",
   "pygments_lexer": "ipython3",
   "version": "3.11.5"
  }
 },
 "nbformat": 4,
 "nbformat_minor": 5
}
