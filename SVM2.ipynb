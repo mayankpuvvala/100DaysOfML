{
 "cells": [
  {
   "cell_type": "code",
   "execution_count": 1,
   "id": "0b3f9b6a-7c8e-4ef2-90df-bb3e0df05c29",
   "metadata": {},
   "outputs": [
    {
     "data": {
      "text/html": [
       "<div>\n",
       "<style scoped>\n",
       "    .dataframe tbody tr th:only-of-type {\n",
       "        vertical-align: middle;\n",
       "    }\n",
       "\n",
       "    .dataframe tbody tr th {\n",
       "        vertical-align: top;\n",
       "    }\n",
       "\n",
       "    .dataframe thead th {\n",
       "        text-align: right;\n",
       "    }\n",
       "</style>\n",
       "<table border=\"1\" class=\"dataframe\">\n",
       "  <thead>\n",
       "    <tr style=\"text-align: right;\">\n",
       "      <th></th>\n",
       "      <th>date</th>\n",
       "      <th>admin1</th>\n",
       "      <th>admin2</th>\n",
       "      <th>market</th>\n",
       "      <th>latitude</th>\n",
       "      <th>longitude</th>\n",
       "      <th>category</th>\n",
       "      <th>commodity</th>\n",
       "      <th>unit</th>\n",
       "      <th>priceflag</th>\n",
       "      <th>pricetype</th>\n",
       "      <th>currency</th>\n",
       "      <th>price</th>\n",
       "      <th>usdprice</th>\n",
       "    </tr>\n",
       "  </thead>\n",
       "  <tbody>\n",
       "    <tr>\n",
       "      <th>0</th>\n",
       "      <td>15-01-1994</td>\n",
       "      <td>Delhi</td>\n",
       "      <td>Delhi</td>\n",
       "      <td>Delhi</td>\n",
       "      <td>28.67</td>\n",
       "      <td>77.22</td>\n",
       "      <td>cereals and tubers</td>\n",
       "      <td>Rice</td>\n",
       "      <td>KG</td>\n",
       "      <td>actual</td>\n",
       "      <td>Retail</td>\n",
       "      <td>INR</td>\n",
       "      <td>8.0</td>\n",
       "      <td>0.2545</td>\n",
       "    </tr>\n",
       "    <tr>\n",
       "      <th>1</th>\n",
       "      <td>15-01-1994</td>\n",
       "      <td>Delhi</td>\n",
       "      <td>Delhi</td>\n",
       "      <td>Delhi</td>\n",
       "      <td>28.67</td>\n",
       "      <td>77.22</td>\n",
       "      <td>cereals and tubers</td>\n",
       "      <td>Wheat</td>\n",
       "      <td>KG</td>\n",
       "      <td>actual</td>\n",
       "      <td>Retail</td>\n",
       "      <td>INR</td>\n",
       "      <td>5.0</td>\n",
       "      <td>0.1590</td>\n",
       "    </tr>\n",
       "    <tr>\n",
       "      <th>2</th>\n",
       "      <td>15-01-1994</td>\n",
       "      <td>Delhi</td>\n",
       "      <td>Delhi</td>\n",
       "      <td>Delhi</td>\n",
       "      <td>28.67</td>\n",
       "      <td>77.22</td>\n",
       "      <td>miscellaneous food</td>\n",
       "      <td>Sugar</td>\n",
       "      <td>KG</td>\n",
       "      <td>actual</td>\n",
       "      <td>Retail</td>\n",
       "      <td>INR</td>\n",
       "      <td>13.5</td>\n",
       "      <td>0.4294</td>\n",
       "    </tr>\n",
       "    <tr>\n",
       "      <th>3</th>\n",
       "      <td>15-01-1994</td>\n",
       "      <td>Delhi</td>\n",
       "      <td>Delhi</td>\n",
       "      <td>Delhi</td>\n",
       "      <td>28.67</td>\n",
       "      <td>77.22</td>\n",
       "      <td>oil and fats</td>\n",
       "      <td>Oil (mustard)</td>\n",
       "      <td>KG</td>\n",
       "      <td>actual</td>\n",
       "      <td>Retail</td>\n",
       "      <td>INR</td>\n",
       "      <td>31.0</td>\n",
       "      <td>0.9860</td>\n",
       "    </tr>\n",
       "    <tr>\n",
       "      <th>4</th>\n",
       "      <td>15-01-1994</td>\n",
       "      <td>Gujarat</td>\n",
       "      <td>Ahmadabad</td>\n",
       "      <td>Ahmedabad</td>\n",
       "      <td>23.03</td>\n",
       "      <td>72.62</td>\n",
       "      <td>cereals and tubers</td>\n",
       "      <td>Rice</td>\n",
       "      <td>KG</td>\n",
       "      <td>actual</td>\n",
       "      <td>Retail</td>\n",
       "      <td>INR</td>\n",
       "      <td>6.8</td>\n",
       "      <td>0.2163</td>\n",
       "    </tr>\n",
       "  </tbody>\n",
       "</table>\n",
       "</div>"
      ],
      "text/plain": [
       "         date   admin1     admin2     market  latitude  longitude  \\\n",
       "0  15-01-1994    Delhi      Delhi      Delhi     28.67      77.22   \n",
       "1  15-01-1994    Delhi      Delhi      Delhi     28.67      77.22   \n",
       "2  15-01-1994    Delhi      Delhi      Delhi     28.67      77.22   \n",
       "3  15-01-1994    Delhi      Delhi      Delhi     28.67      77.22   \n",
       "4  15-01-1994  Gujarat  Ahmadabad  Ahmedabad     23.03      72.62   \n",
       "\n",
       "             category      commodity unit priceflag pricetype currency  price  \\\n",
       "0  cereals and tubers           Rice   KG    actual    Retail      INR    8.0   \n",
       "1  cereals and tubers          Wheat   KG    actual    Retail      INR    5.0   \n",
       "2  miscellaneous food          Sugar   KG    actual    Retail      INR   13.5   \n",
       "3        oil and fats  Oil (mustard)   KG    actual    Retail      INR   31.0   \n",
       "4  cereals and tubers           Rice   KG    actual    Retail      INR    6.8   \n",
       "\n",
       "   usdprice  \n",
       "0    0.2545  \n",
       "1    0.1590  \n",
       "2    0.4294  \n",
       "3    0.9860  \n",
       "4    0.2163  "
      ]
     },
     "execution_count": 1,
     "metadata": {},
     "output_type": "execute_result"
    }
   ],
   "source": [
    "import numpy as np\n",
    "import matplotlib.pyplot as plt\n",
    "import pandas as pd\n",
    "import tensorflow as tf\n",
    "import sklearn\n",
    "df = pd.read_csv(\"https://raw.githubusercontent.com/sachinmotwani20/NPTEL-ML_Datasets/main/food_prices_ind.csv\")\n",
    "df.head()"
   ]
  },
  {
   "cell_type": "code",
   "execution_count": 2,
   "id": "7d5d01a2-fb92-4a6d-b972-2915881cae25",
   "metadata": {},
   "outputs": [
    {
     "name": "stdout",
     "output_type": "stream",
     "text": [
      "ERROR! Session/line number was not unique in database. History logging moved to new session 65\n"
     ]
    },
    {
     "name": "stderr",
     "output_type": "stream",
     "text": [
      "\n",
      "KeyboardInterrupt\n",
      "\n"
     ]
    }
   ],
   "source": [
    "import pandas as pd\n",
    "\n",
    "# Assuming you have the data in a DataFrame named 'df'\n",
    "\n",
    "# Create an empty list to store common values\n",
    "common_values = []\n",
    "\n",
    "# Iterate through the DataFrame rows\n",
    "for i, row1 in df.iterrows():\n",
    "    common_in_row = [i]\n",
    "\n",
    "    # Compare this row with other rows\n",
    "    for j, row2 in df.iterrows():\n",
    "        if i == j:\n",
    "            continue  # Skip self-comparison\n",
    "        common_cols = (row1 == row2)  # Check if columns are identical\n",
    "        if common_cols.all():\n",
    "            common_in_row.append(j)\n",
    "\n",
    "    if len(common_in_row) > 1:  # If there are common values in this row\n",
    "        common_values.append(common_in_row)\n",
    "\n",
    "# Print rows with common values\n",
    "for common_group in common_values:\n",
    "    print(\"Common values in rows:\", common_group)\n",
    "    for i in common_group:\n",
    "        print(df.iloc[i])\n",
    "    print()\n"
   ]
  },
  {
   "cell_type": "code",
   "execution_count": null,
   "id": "5607b8b3-7048-41a4-8135-ee0d89d4a40d",
   "metadata": {},
   "outputs": [],
   "source": [
    "df.shape\n"
   ]
  },
  {
   "cell_type": "code",
   "execution_count": null,
   "id": "57a072a5-3116-4b9a-9979-fc1e9c783296",
   "metadata": {},
   "outputs": [],
   "source": [
    "df.info()"
   ]
  },
  {
   "cell_type": "code",
   "execution_count": null,
   "id": "182f3eb6-d3bc-4f50-b3fc-a551cf3a6957",
   "metadata": {},
   "outputs": [],
   "source": [
    "features = df.iloc[:, :-1]\n",
    "predictions = df.iloc[:, -1] "
   ]
  },
  {
   "cell_type": "code",
   "execution_count": null,
   "id": "1b970308-015e-47d3-91df-bf2b2ef6a7f0",
   "metadata": {},
   "outputs": [],
   "source": [
    "\n",
    "features.head()"
   ]
  },
  {
   "cell_type": "code",
   "execution_count": null,
   "id": "770ee305-04c9-442e-9c62-7ab08d3f046f",
   "metadata": {},
   "outputs": [],
   "source": [
    "predictions.head()"
   ]
  },
  {
   "cell_type": "code",
   "execution_count": null,
   "id": "41b2bd0c-7033-42f2-b5f4-27f5cfd6738b",
   "metadata": {},
   "outputs": [],
   "source": [
    "features.describe()"
   ]
  },
  {
   "cell_type": "code",
   "execution_count": null,
   "id": "5f6585dc-c1df-43aa-8b5a-41027e463cd1",
   "metadata": {},
   "outputs": [],
   "source": [
    "from sklearn.preprocessing import MinMaxScaler\n",
    "\n",
    "# Assuming you have the data in a DataFrame named 'df'\n",
    "data_to_scale = df[['latitude', 'longitude', 'price']]\n",
    "\n",
    "# Initialize the MinMaxScaler\n",
    "scaler = MinMaxScaler()\n",
    "\n",
    "# Fit and transform the data\n",
    "scaled_data = scaler.fit_transform(data_to_scale)\n",
    "\n",
    "# Create a new DataFrame with scaled data\n",
    "scaled_df = pd.DataFrame(scaled_data, columns=['scaled_latitude', 'scaled_longitude', 'scaled_price'])\n",
    "\n",
    "# Display the first few rows of the scaled DataFrame\n",
    "print(scaled_df.head(10))\n"
   ]
  },
  {
   "cell_type": "code",
   "execution_count": null,
   "id": "63a19733-17bb-4496-b50b-7a716032a382",
   "metadata": {},
   "outputs": [],
   "source": [
    "scaled_df.describe()"
   ]
  },
  {
   "cell_type": "code",
   "execution_count": null,
   "id": "0e26d99f-7207-457b-96e5-23d58f3e6a89",
   "metadata": {},
   "outputs": [],
   "source": [
    "from sklearn.model_selection import train_test_split\n",
    "X_train, X_test, y_train, y_test = train_test_split(scaled_df, predictions, test_size=0.2, random_state=42, shuffle=True)"
   ]
  },
  {
   "cell_type": "code",
   "execution_count": null,
   "id": "fcb5ede8-39b1-4a2c-a7e3-8825bc5dc703",
   "metadata": {},
   "outputs": [],
   "source": [
    "Train_df = pd.concat([X_train, y_train], axis = 'columns') \n",
    "Train_df.head()"
   ]
  },
  {
   "cell_type": "code",
   "execution_count": null,
   "id": "1836f49f-f6e8-4b89-96d6-57cc922672fa",
   "metadata": {},
   "outputs": [],
   "source": [
    "Train_df.describe()"
   ]
  },
  {
   "cell_type": "code",
   "execution_count": null,
   "id": "804168b3-c3d7-42f4-a26e-6e97000e2d31",
   "metadata": {},
   "outputs": [],
   "source": [
    "from sklearn.preprocessing import MinMaxScaler\n",
    "\n",
    "# Assuming you have the data in a DataFrame named 'df'\n",
    "data_to_scale = df[['latitude', 'longitude', 'price', 'usdprice']]\n",
    "\n",
    "# Initialize the MinMaxScaler\n",
    "scaler = MinMaxScaler()\n",
    "\n",
    "# Fit and transform the data\n",
    "scaled_data = scaler.fit_transform(data_to_scale)\n",
    "\n",
    "# Create a new DataFrame with scaled data\n",
    "scaled_df = pd.DataFrame(scaled_data, columns=['scaled_latitude', 'scaled_longitude', 'scaled_price', 'scaled_usdprice'])\n",
    "\n",
    "# Display the first few rows of the scaled DataFrame\n",
    "print(scaled_df.head())\n"
   ]
  },
  {
   "cell_type": "code",
   "execution_count": null,
   "id": "ed2ae033-187d-4214-a0a9-480ce84366e7",
   "metadata": {},
   "outputs": [],
   "source": []
  }
 ],
 "metadata": {
  "kernelspec": {
   "display_name": "Python 3 (ipykernel)",
   "language": "python",
   "name": "python3"
  },
  "language_info": {
   "codemirror_mode": {
    "name": "ipython",
    "version": 3
   },
   "file_extension": ".py",
   "mimetype": "text/x-python",
   "name": "python",
   "nbconvert_exporter": "python",
   "pygments_lexer": "ipython3",
   "version": "3.11.5"
  }
 },
 "nbformat": 4,
 "nbformat_minor": 5
}
