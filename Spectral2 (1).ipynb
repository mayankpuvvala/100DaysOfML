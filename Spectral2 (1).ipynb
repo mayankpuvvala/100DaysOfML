{
 "cells": [
  {
   "cell_type": "code",
   "execution_count": 1,
   "id": "796c57ba-36f3-4d09-82e8-16a1fe21df64",
   "metadata": {},
   "outputs": [],
   "source": [
    "import numpy as np\n",
    "import pandas as pd\n",
    "import matplotlib.pyplot as plt \n",
    "import seaborn as sns\n",
    "url = \"https://archive.ics.uci.edu/ml/machine-learning-databases/00352/Online%20Retail.xlsx\"\n",
    "data = pd.read_excel(url)"
   ]
  },
  {
   "cell_type": "code",
   "execution_count": null,
   "id": "111e4359-af93-49fb-9f37-7518597d6128",
   "metadata": {},
   "outputs": [],
   "source": [
    "\n",
    "data = data.dropna(subset=['InvoiceNo'])\n",
    "\n",
    "data.head(15)"
   ]
  },
  {
   "cell_type": "code",
   "execution_count": null,
   "id": "71cc21b4-fe3d-45a0-829e-9ff503ad4fd2",
   "metadata": {},
   "outputs": [],
   "source": [
    "data.shape"
   ]
  },
  {
   "cell_type": "code",
   "execution_count": null,
   "id": "ed93e341-374b-42bc-999e-42beb7614661",
   "metadata": {},
   "outputs": [],
   "source": [
    "data.info()"
   ]
  },
  {
   "cell_type": "code",
   "execution_count": null,
   "id": "94d2b89e-0c2c-42c6-af85-c29c5a3f114a",
   "metadata": {},
   "outputs": [],
   "source": [
    "plt.figure(figsize= (8,6))\n",
    "\n",
    "plt.scatter(data[\"UnitPrice\"],data[\"CustomerID\"], marker= 'o', edgecolors= 'k')\n",
    "plt.title(\"Dataset\")\n",
    "plt.xlabel(\"UnitPrice\")\n",
    "plt.ylabel(\"CustomerID\")\n",
    "plt.show()"
   ]
  },
  {
   "cell_type": "code",
   "execution_count": null,
   "id": "49963523-8e03-456d-b39c-5a57fb95aeb6",
   "metadata": {},
   "outputs": [],
   "source": [
    "import pandas as pd\n",
    "from sklearn.cluster import MiniBatchKMeans\n",
    "from sklearn.impute import SimpleImputer\n",
    "\n",
    "minibatch_kmeans = MiniBatchKMeans(n_clusters=0.001, n_init='auto')\n",
    "\n",
    "numeric_data = data.select_dtypes(include=['float64', 'int64'])\n",
    "\n",
    "imputer = SimpleImputer(strategy='mean')\n",
    "imputed_data = imputer.fit_transform(numeric_data)\n",
    "\n",
    "# Initialize the MiniBatchKMeans clustering model\n",
    "minibatch_kmeans = MiniBatchKMeans(n_clusters=5)  # You can specify the number of clusters\n",
    "cluster_labels = minibatch_kmeans.fit_predict(imputed_data)"
   ]
  },
  {
   "cell_type": "code",
   "execution_count": null,
   "id": "dd81208c-ef82-4c6e-ade7-f91ffa01310d",
   "metadata": {},
   "outputs": [],
   "source": [
    "plt.figure(figsize= (8,6))\n",
    "\n",
    "plt.scatter(data[\"UnitPrice\"],data[\"CustomerID\"], marker= 'o', edgecolors= 'k')\n",
    "plt.title(\"Dataset\")\n",
    "plt.xlabel(\"UnitPrice\")\n",
    "plt.ylabel(\"CustomerID\")\n",
    "plt.show()"
   ]
  },
  {
   "cell_type": "code",
   "execution_count": null,
   "id": "e8dfe840-2cf3-42a7-8372-3e38c71d4119",
   "metadata": {},
   "outputs": [],
   "source": [
    "import matplotlib.pyplot as plt\n",
    "import seaborn as sns\n",
    "\n",
    "# Assuming that you have two columns you want to use for the scatter plot, replace 'feature1' and 'feature2' with actual column names.\n",
    "feature1 = 'Quantity'\n",
    "feature2 = 'CustomerID'\n",
    "\n",
    "# Create a DataFrame for the scatter plot\n",
    "scatter_data = pd.DataFrame({'Feature 1': imputed_data[:, 0], 'Feature 2': imputed_data[:, 1], 'Cluster': cluster_labels})\n",
    "\n",
    "# Create a scatter plot\n",
    "plt.figure(figsize=(10, 6))\n",
    "sns.scatterplot(x='Feature 1', y='Feature 2', hue='Cluster', data=scatter_data, palette='viridis')\n",
    "plt.title('MiniBatchKMeans Clustering with Outlier Handling')\n",
    "plt.xlabel('Feature 1')\n",
    "plt.ylabel('Feature 2')\n",
    "plt.show()"
   ]
  },
  {
   "cell_type": "code",
   "execution_count": null,
   "id": "c231ee1a-8f42-436e-b3ef-73a744f3c4cb",
   "metadata": {},
   "outputs": [],
   "source": [
    "import pandas as pd\n",
    "from sklearn.impute import SimpleImputer\n",
    "\n",
    "# Select numeric columns\n",
    "numeric_data = data.select_dtypes(include=['float64'])\n",
    "\n",
    "# Impute missing values (replace NaN with the mean)\n",
    "imputer = SimpleImputer(strategy='mean')\n",
    "data_imputed = imputer.fit_transform(numeric_data)\n",
    "\n"
   ]
  },
  {
   "cell_type": "code",
   "execution_count": null,
   "id": "edc34220-0f4f-4314-862a-2bb81ba177ee",
   "metadata": {},
   "outputs": [],
   "source": [
    "from sklearn.cluster import KMeans\n",
    "from sklearn.metrics import silhouette_score\n",
    "\n",
    "# Define the K-means model\n",
    "model_km = KMeans(n_clusters=2, random_state=42, n_init=100)\n",
    "\n",
    "# Fit the K-means model to your data\n",
    "kmeans_labels = model_km.fit_predict(data_imputed)\n",
    "\n",
    "# Calculate the silhouette score for K-means clustering\n",
    "kmeans_silhouette = silhouette_score(data_imputed, kmeans_labels)\n",
    "print(\"Silhouette Score for K-means Clustering is\", kmeans_silhouette)"
   ]
  },
  {
   "cell_type": "code",
   "execution_count": null,
   "id": "51cdc0e5-1a91-4370-a2be-1d3b3718b9a3",
   "metadata": {},
   "outputs": [],
   "source": [
    "from sklearn.cluster import KMeans\n",
    "from sklearn.metrics import silhouette_score\n",
    "\n",
    "# Define the K-means model\n",
    "model_km = KMeans(n_clusters=2, random_state=42, n_init=100)\n",
    "\n",
    "# Fit the K-means model to your data\n",
    "kmeans_labels = model_km.fit_predict(data_imputed)\n",
    "\n",
    "# Calculate the silhouette score for K-means clustering\n",
    "kmeans_silhouette = silhouette_score(data_imputed, kmeans_labels)\n",
    "print(\"Silhouette Score for K-means Clustering is\", kmeans_silhouette)"
   ]
  },
  {
   "cell_type": "code",
   "execution_count": null,
   "id": "a28e4b70-ce20-456c-8695-b8a3efc568ca",
   "metadata": {},
   "outputs": [],
   "source": [
    "import matplotlib.pyplot as plt\n",
    "\n",
    "# Visualize the results\n",
    "plt.figure(figsize=(12, 5))\n",
    "\n",
    "plt.subplot(1, 2, 1)\n",
    "plt.scatter(data[\"UnitPrice\"], data[\"CustomerID\"], c=kmeans_labels, cmap='viridis', marker='o', edgecolors='k')\n",
    "plt.title(f\"K-means Clustering (Silhouette Score: {kmeans_silhouette:.2f})\")\n",
    "\n",
    "plt.subplot(1, 2, 2)\n",
    "plt.scatter(data[\"UnitPrice\"], data[\"CustomerID\"], c=sc_labels, cmap='viridis', marker='o', edgecolors='k')\n",
    "plt.title(f\"Spectral Clustering (Silhouette Score: {sc_silhouette:.2f})\")\n",
    "plt.colorbar(label=\"Class\")\n",
    "plt.show()\n"
   ]
  },
  {
   "cell_type": "code",
   "execution_count": null,
   "id": "ae8d143b-a23f-4953-9f84-bf405d162c74",
   "metadata": {},
   "outputs": [],
   "source": []
  },
  {
   "cell_type": "code",
   "execution_count": null,
   "id": "4599652d-f0aa-4b7d-881c-16f79a6976cc",
   "metadata": {},
   "outputs": [],
   "source": []
  }
 ],
 "metadata": {
  "kernelspec": {
   "display_name": "Python 3 (ipykernel)",
   "language": "python",
   "name": "python3"
  },
  "language_info": {
   "codemirror_mode": {
    "name": "ipython",
    "version": 3
   },
   "file_extension": ".py",
   "mimetype": "text/x-python",
   "name": "python",
   "nbconvert_exporter": "python",
   "pygments_lexer": "ipython3",
   "version": "3.11.5"
  }
 },
 "nbformat": 4,
 "nbformat_minor": 5
}
